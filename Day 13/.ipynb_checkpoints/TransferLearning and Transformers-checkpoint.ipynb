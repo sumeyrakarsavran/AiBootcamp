{
 "cells": [
  {
   "cell_type": "code",
   "execution_count": null,
   "id": "b60990fa-1f9a-40db-a262-7d47bca083bb",
   "metadata": {},
   "outputs": [],
   "source": [
    "#daha önce eğitilmiş modelleri kullanıp üzerine istediğimiz verileri verip daha iyi eğitmek"
   ]
  },
  {
   "cell_type": "code",
   "execution_count": 2,
   "id": "8e8174aa-4f20-4151-ba1d-012e3ba2452a",
   "metadata": {},
   "outputs": [],
   "source": [
    "#pip install transformers"
   ]
  },
  {
   "cell_type": "code",
   "execution_count": 4,
   "id": "db79b591-40f4-48b1-bedc-756a2e05fde1",
   "metadata": {},
   "outputs": [],
   "source": [
    "#pip install torch "
   ]
  },
  {
   "cell_type": "code",
   "execution_count": null,
   "id": "0f9e1162-ab28-4542-8e7a-20f6bb97c8ed",
   "metadata": {},
   "outputs": [],
   "source": [
    "from transformers import AutoModelForSequenceClassification, AutoTokenizer, pipeline\n",
    "\n",
    "model = AutoModelForSequenceClassification.from_pretrained(\"savasy/bert-base-turkish-sentiment-cased\")\n",
    "tokenizer = AutoTokenizer.from_pretrained(\"savasy/bert-base-turkish-sentiment-cased\")\n",
    "sa= pipeline(\"sentiment-analysis\", tokenizer=tokenizer, model=model)\n",
    "\n",
    "p = sa(\"Senden nefret ediyorum. \")\n",
    "print(p)\n",
    "print(p[0]['label'] == 'LABEL_1')\n",
    "\n",
    "p = sa(\"Film çok kötü ve çok sahteydi\")\n",
    "print(p)\n",
    "print(p[0]['label'] == 'LABEL_1')"
   ]
  },
  {
   "cell_type": "code",
   "execution_count": null,
   "id": "c0bb26c7-6d96-4e61-ac60-7aeb64d4fcf3",
   "metadata": {},
   "outputs": [],
   "source": []
  }
 ],
 "metadata": {
  "kernelspec": {
   "display_name": "Python 3 (ipykernel)",
   "language": "python",
   "name": "python3"
  },
  "language_info": {
   "codemirror_mode": {
    "name": "ipython",
    "version": 3
   },
   "file_extension": ".py",
   "mimetype": "text/x-python",
   "name": "python",
   "nbconvert_exporter": "python",
   "pygments_lexer": "ipython3",
   "version": "3.10.12"
  }
 },
 "nbformat": 4,
 "nbformat_minor": 5
}
