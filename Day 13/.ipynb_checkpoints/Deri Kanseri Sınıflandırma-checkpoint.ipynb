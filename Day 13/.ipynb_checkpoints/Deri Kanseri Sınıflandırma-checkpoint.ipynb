{
 "cells": [
  {
   "cell_type": "markdown",
   "id": "1f766793-2fc3-466a-83d6-38a3b4f4b5b2",
   "metadata": {},
   "source": [
    "# Deri Kanseri Sınıflandırma"
   ]
  },
  {
   "cell_type": "code",
   "execution_count": 1,
   "id": "ad723a64-5d14-43f0-b2b6-10f74d321a9a",
   "metadata": {},
   "outputs": [],
   "source": [
    "import cv2\n",
    "import pandas as pd\n",
    "import os \n",
    "#operating system, kendi bilgisayarındaki klasörden dosya okuma açma kopyalama taşıma ismini değiştirme \n",
    "#zip yapma vs gibi şeyleri programa yaptırabiliyorsun os ile"
   ]
  },
  {
   "cell_type": "code",
   "execution_count": 2,
   "id": "afe96d57-1c6e-41c0-84ca-7db60a539bd7",
   "metadata": {},
   "outputs": [],
   "source": [
    "labels=['Cancer','Non_Cancer']\n",
    "img_path='Skin_Data/'"
   ]
  },
  {
   "cell_type": "code",
   "execution_count": 3,
   "id": "7cbc9f0b-09be-4486-9e86-05ebee572bea",
   "metadata": {},
   "outputs": [],
   "source": [
    "img_list=[]\n",
    "label_list=[]\n",
    "for label in labels:\n",
    "    for img_file in os.listdir(img_path+label):\n",
    "        img_list.append(img_path+label+'/'+img_file)\n",
    "        label_list.append(label)"
   ]
  },
  {
   "cell_type": "code",
   "execution_count": 4,
   "id": "228573a8-63a1-49a3-8548-9c7373ea38d4",
   "metadata": {},
   "outputs": [],
   "source": [
    "df=pd.DataFrame({'img':img_list,'label':label_list})"
   ]
  },
  {
   "cell_type": "code",
   "execution_count": 5,
   "id": "2866ddb2-8144-4ef2-b872-09154b5a00cb",
   "metadata": {},
   "outputs": [
    {
     "data": {
      "text/html": [
       "<div>\n",
       "<style scoped>\n",
       "    .dataframe tbody tr th:only-of-type {\n",
       "        vertical-align: middle;\n",
       "    }\n",
       "\n",
       "    .dataframe tbody tr th {\n",
       "        vertical-align: top;\n",
       "    }\n",
       "\n",
       "    .dataframe thead th {\n",
       "        text-align: right;\n",
       "    }\n",
       "</style>\n",
       "<table border=\"1\" class=\"dataframe\">\n",
       "  <thead>\n",
       "    <tr style=\"text-align: right;\">\n",
       "      <th></th>\n",
       "      <th>img</th>\n",
       "      <th>label</th>\n",
       "    </tr>\n",
       "  </thead>\n",
       "  <tbody>\n",
       "    <tr>\n",
       "      <th>283</th>\n",
       "      <td>Skin_Data/Non_Cancer/953-1.JPG</td>\n",
       "      <td>Non_Cancer</td>\n",
       "    </tr>\n",
       "    <tr>\n",
       "      <th>284</th>\n",
       "      <td>Skin_Data/Non_Cancer/954-3.JPG</td>\n",
       "      <td>Non_Cancer</td>\n",
       "    </tr>\n",
       "    <tr>\n",
       "      <th>285</th>\n",
       "      <td>Skin_Data/Non_Cancer/955.JPG</td>\n",
       "      <td>Non_Cancer</td>\n",
       "    </tr>\n",
       "    <tr>\n",
       "      <th>286</th>\n",
       "      <td>Skin_Data/Non_Cancer/984.JPG</td>\n",
       "      <td>Non_Cancer</td>\n",
       "    </tr>\n",
       "    <tr>\n",
       "      <th>287</th>\n",
       "      <td>Skin_Data/Non_Cancer/986-1.JPG</td>\n",
       "      <td>Non_Cancer</td>\n",
       "    </tr>\n",
       "  </tbody>\n",
       "</table>\n",
       "</div>"
      ],
      "text/plain": [
       "                                img       label\n",
       "283  Skin_Data/Non_Cancer/953-1.JPG  Non_Cancer\n",
       "284  Skin_Data/Non_Cancer/954-3.JPG  Non_Cancer\n",
       "285    Skin_Data/Non_Cancer/955.JPG  Non_Cancer\n",
       "286    Skin_Data/Non_Cancer/984.JPG  Non_Cancer\n",
       "287  Skin_Data/Non_Cancer/986-1.JPG  Non_Cancer"
      ]
     },
     "execution_count": 5,
     "metadata": {},
     "output_type": "execute_result"
    }
   ],
   "source": [
    "df.tail()"
   ]
  },
  {
   "cell_type": "code",
   "execution_count": 6,
   "id": "7b7e656d-9e6a-41c5-a957-c4bb1e96af16",
   "metadata": {},
   "outputs": [],
   "source": [
    "import matplotlib.pyplot as plt"
   ]
  },
  {
   "cell_type": "code",
   "execution_count": 7,
   "id": "1c7c0c26-5699-4254-97ab-9cc1c68febb0",
   "metadata": {},
   "outputs": [],
   "source": [
    "d={'Cancer':1,'Non_Cancer':0} "
   ]
  },
  {
   "cell_type": "code",
   "execution_count": 8,
   "id": "b823b765-b27d-414b-a83b-ddf01b926858",
   "metadata": {},
   "outputs": [],
   "source": [
    "df['encode_label']=df['label'].map(d) #cancer ve noncanceri 1-0 yaptık"
   ]
  },
  {
   "cell_type": "code",
   "execution_count": 9,
   "id": "ca527653-1013-4543-872c-f6e89b6757c6",
   "metadata": {},
   "outputs": [
    {
     "data": {
      "text/html": [
       "<div>\n",
       "<style scoped>\n",
       "    .dataframe tbody tr th:only-of-type {\n",
       "        vertical-align: middle;\n",
       "    }\n",
       "\n",
       "    .dataframe tbody tr th {\n",
       "        vertical-align: top;\n",
       "    }\n",
       "\n",
       "    .dataframe thead th {\n",
       "        text-align: right;\n",
       "    }\n",
       "</style>\n",
       "<table border=\"1\" class=\"dataframe\">\n",
       "  <thead>\n",
       "    <tr style=\"text-align: right;\">\n",
       "      <th></th>\n",
       "      <th>img</th>\n",
       "      <th>label</th>\n",
       "      <th>encode_label</th>\n",
       "    </tr>\n",
       "  </thead>\n",
       "  <tbody>\n",
       "    <tr>\n",
       "      <th>0</th>\n",
       "      <td>Skin_Data/Cancer/1007-1.jpg</td>\n",
       "      <td>Cancer</td>\n",
       "      <td>1</td>\n",
       "    </tr>\n",
       "    <tr>\n",
       "      <th>1</th>\n",
       "      <td>Skin_Data/Cancer/1010-01.JPG</td>\n",
       "      <td>Cancer</td>\n",
       "      <td>1</td>\n",
       "    </tr>\n",
       "    <tr>\n",
       "      <th>2</th>\n",
       "      <td>Skin_Data/Cancer/1012-2.JPG</td>\n",
       "      <td>Cancer</td>\n",
       "      <td>1</td>\n",
       "    </tr>\n",
       "    <tr>\n",
       "      <th>3</th>\n",
       "      <td>Skin_Data/Cancer/1031-1.jpg</td>\n",
       "      <td>Cancer</td>\n",
       "      <td>1</td>\n",
       "    </tr>\n",
       "    <tr>\n",
       "      <th>4</th>\n",
       "      <td>Skin_Data/Cancer/1051-3(94).jpg</td>\n",
       "      <td>Cancer</td>\n",
       "      <td>1</td>\n",
       "    </tr>\n",
       "  </tbody>\n",
       "</table>\n",
       "</div>"
      ],
      "text/plain": [
       "                               img   label  encode_label\n",
       "0      Skin_Data/Cancer/1007-1.jpg  Cancer             1\n",
       "1     Skin_Data/Cancer/1010-01.JPG  Cancer             1\n",
       "2      Skin_Data/Cancer/1012-2.JPG  Cancer             1\n",
       "3      Skin_Data/Cancer/1031-1.jpg  Cancer             1\n",
       "4  Skin_Data/Cancer/1051-3(94).jpg  Cancer             1"
      ]
     },
     "execution_count": 9,
     "metadata": {},
     "output_type": "execute_result"
    }
   ],
   "source": [
    "df.head()"
   ]
  },
  {
   "cell_type": "code",
   "execution_count": 10,
   "id": "3b987862-23db-4a0d-b4fc-63cbbb54a32c",
   "metadata": {},
   "outputs": [
    {
     "data": {
      "text/html": [
       "<div>\n",
       "<style scoped>\n",
       "    .dataframe tbody tr th:only-of-type {\n",
       "        vertical-align: middle;\n",
       "    }\n",
       "\n",
       "    .dataframe tbody tr th {\n",
       "        vertical-align: top;\n",
       "    }\n",
       "\n",
       "    .dataframe thead th {\n",
       "        text-align: right;\n",
       "    }\n",
       "</style>\n",
       "<table border=\"1\" class=\"dataframe\">\n",
       "  <thead>\n",
       "    <tr style=\"text-align: right;\">\n",
       "      <th></th>\n",
       "      <th>img</th>\n",
       "      <th>label</th>\n",
       "      <th>encode_label</th>\n",
       "    </tr>\n",
       "  </thead>\n",
       "  <tbody>\n",
       "    <tr>\n",
       "      <th>283</th>\n",
       "      <td>Skin_Data/Non_Cancer/953-1.JPG</td>\n",
       "      <td>Non_Cancer</td>\n",
       "      <td>0</td>\n",
       "    </tr>\n",
       "    <tr>\n",
       "      <th>284</th>\n",
       "      <td>Skin_Data/Non_Cancer/954-3.JPG</td>\n",
       "      <td>Non_Cancer</td>\n",
       "      <td>0</td>\n",
       "    </tr>\n",
       "    <tr>\n",
       "      <th>285</th>\n",
       "      <td>Skin_Data/Non_Cancer/955.JPG</td>\n",
       "      <td>Non_Cancer</td>\n",
       "      <td>0</td>\n",
       "    </tr>\n",
       "    <tr>\n",
       "      <th>286</th>\n",
       "      <td>Skin_Data/Non_Cancer/984.JPG</td>\n",
       "      <td>Non_Cancer</td>\n",
       "      <td>0</td>\n",
       "    </tr>\n",
       "    <tr>\n",
       "      <th>287</th>\n",
       "      <td>Skin_Data/Non_Cancer/986-1.JPG</td>\n",
       "      <td>Non_Cancer</td>\n",
       "      <td>0</td>\n",
       "    </tr>\n",
       "  </tbody>\n",
       "</table>\n",
       "</div>"
      ],
      "text/plain": [
       "                                img       label  encode_label\n",
       "283  Skin_Data/Non_Cancer/953-1.JPG  Non_Cancer             0\n",
       "284  Skin_Data/Non_Cancer/954-3.JPG  Non_Cancer             0\n",
       "285    Skin_Data/Non_Cancer/955.JPG  Non_Cancer             0\n",
       "286    Skin_Data/Non_Cancer/984.JPG  Non_Cancer             0\n",
       "287  Skin_Data/Non_Cancer/986-1.JPG  Non_Cancer             0"
      ]
     },
     "execution_count": 10,
     "metadata": {},
     "output_type": "execute_result"
    }
   ],
   "source": [
    "df.tail()"
   ]
  },
  {
   "cell_type": "code",
   "execution_count": 11,
   "id": "ebd7c923-e83d-4c66-91d6-99f422df670c",
   "metadata": {},
   "outputs": [],
   "source": [
    "import numpy as np"
   ]
  },
  {
   "cell_type": "code",
   "execution_count": 17,
   "id": "987af75d-e3f0-41dc-a5e8-69ce76d6c8ac",
   "metadata": {},
   "outputs": [],
   "source": [
    "x=[]\n",
    "for img in df['img']:\n",
    "    img=cv2.imread(img)\n",
    "    img=cv2.resize(img,(170,170)) #boyutunu 170 x 170 pixel yaptik\n",
    "    img=img/255.0 #normalize ettik\n",
    "    x.append(img)"
   ]
  },
  {
   "cell_type": "code",
   "execution_count": 18,
   "id": "670bb3b5-94a2-4d2e-bbee-fc074de7b748",
   "metadata": {},
   "outputs": [],
   "source": [
    "x=np.array(x)"
   ]
  },
  {
   "cell_type": "code",
   "execution_count": 19,
   "id": "783c6f0a-fd0a-4354-9303-ed767beb7b96",
   "metadata": {},
   "outputs": [],
   "source": [
    "y=df['encode_label' ] "
   ]
  },
  {
   "cell_type": "code",
   "execution_count": 20,
   "id": "2480e738-2eb7-497e-970e-e096c6388f33",
   "metadata": {},
   "outputs": [],
   "source": [
    "from sklearn.model_selection import train_test_split"
   ]
  },
  {
   "cell_type": "code",
   "execution_count": 21,
   "id": "01e32726-5fb4-474f-917e-1bde20566954",
   "metadata": {},
   "outputs": [],
   "source": [
    "x_train,x_test,y_train,y_test=train_test_split(x,y,test_size =.20,random_state=42)"
   ]
  },
  {
   "cell_type": "code",
   "execution_count": 22,
   "id": "922bd7a2-173a-474d-8fe0-48f0a1c20867",
   "metadata": {},
   "outputs": [],
   "source": [
    "from keras.models import Sequential\n",
    "from keras.layers import Conv2D, Dense, Flatten, Input, MaxPooling2D, Dropout, BatchNormalization, Reshape"
   ]
  },
  {
   "cell_type": "code",
   "execution_count": 24,
   "id": "d572da62-9f72-4ba0-b282-f8b57071c397",
   "metadata": {},
   "outputs": [],
   "source": [
    "# CNN Convolutional Neural Networks"
   ]
  },
  {
   "cell_type": "code",
   "execution_count": 25,
   "id": "de474ff3-e77a-4e95-883e-dd25dd4e4136",
   "metadata": {},
   "outputs": [],
   "source": [
    "model=Sequential()\n",
    "model.add(Input(shape=(170,170,3))) #3, rgb için\n",
    "model.add(Conv2D(32,kernel_size=(3,3),activation='relu'))\n",
    "model.add(MaxPooling2D(pool_size=(2,2)))\n",
    "model.add(Conv2D(64,kernel_size=(3,3),activation='relu'))\n",
    "model.add(MaxPooling2D(pool_size=(2,2)))\n",
    "model.add(Flatten())\n",
    "model.add(Dense(128))\n",
    "model.add(Dense(2, activation='softmax')) # 2 fakli cevap classification için\n",
    "model.compile(optimizer='adam', loss='sparse_categorical_crossentropy',metrics=['accuracy'])"
   ]
  },
  {
   "cell_type": "code",
   "execution_count": 27,
   "id": "b25c0410-a62a-4851-b144-401db2bd121c",
   "metadata": {},
   "outputs": [
    {
     "name": "stdout",
     "output_type": "stream",
     "text": [
      "Epoch 1/20\n",
      "8/8 [==============================] - 3s 415ms/step - loss: 0.2100 - accuracy: 0.9000 - val_loss: 0.2534 - val_accuracy: 0.8448\n",
      "Epoch 2/20\n",
      "8/8 [==============================] - 4s 509ms/step - loss: 0.1350 - accuracy: 0.9565 - val_loss: 0.2467 - val_accuracy: 0.8793\n",
      "Epoch 3/20\n",
      "8/8 [==============================] - 4s 496ms/step - loss: 0.1142 - accuracy: 0.9609 - val_loss: 0.2579 - val_accuracy: 0.8966\n",
      "Epoch 4/20\n",
      "8/8 [==============================] - 3s 400ms/step - loss: 0.0983 - accuracy: 0.9739 - val_loss: 0.3201 - val_accuracy: 0.8966\n",
      "Epoch 5/20\n",
      "8/8 [==============================] - 4s 485ms/step - loss: 0.0844 - accuracy: 0.9652 - val_loss: 0.2704 - val_accuracy: 0.8793\n",
      "Epoch 6/20\n",
      "8/8 [==============================] - 4s 544ms/step - loss: 0.0635 - accuracy: 0.9826 - val_loss: 0.3564 - val_accuracy: 0.8793\n",
      "Epoch 7/20\n",
      "8/8 [==============================] - 5s 609ms/step - loss: 0.0360 - accuracy: 0.9870 - val_loss: 0.3902 - val_accuracy: 0.8276\n",
      "Epoch 8/20\n",
      "8/8 [==============================] - 4s 537ms/step - loss: 0.0317 - accuracy: 0.9913 - val_loss: 0.3427 - val_accuracy: 0.8621\n",
      "Epoch 9/20\n",
      "8/8 [==============================] - 4s 535ms/step - loss: 0.0222 - accuracy: 0.9913 - val_loss: 0.3308 - val_accuracy: 0.8448\n",
      "Epoch 10/20\n",
      "8/8 [==============================] - 4s 494ms/step - loss: 0.0191 - accuracy: 0.9957 - val_loss: 0.3202 - val_accuracy: 0.8621\n",
      "Epoch 11/20\n",
      "8/8 [==============================] - 4s 516ms/step - loss: 0.0144 - accuracy: 1.0000 - val_loss: 0.2975 - val_accuracy: 0.8966\n",
      "Epoch 12/20\n",
      "8/8 [==============================] - 4s 513ms/step - loss: 0.0130 - accuracy: 1.0000 - val_loss: 0.3176 - val_accuracy: 0.8621\n",
      "Epoch 13/20\n",
      "8/8 [==============================] - 6s 702ms/step - loss: 0.0099 - accuracy: 1.0000 - val_loss: 0.3239 - val_accuracy: 0.8966\n",
      "Epoch 14/20\n",
      "8/8 [==============================] - 4s 541ms/step - loss: 0.0081 - accuracy: 1.0000 - val_loss: 0.2926 - val_accuracy: 0.8793\n",
      "Epoch 15/20\n",
      "8/8 [==============================] - 4s 555ms/step - loss: 0.0176 - accuracy: 1.0000 - val_loss: 0.3691 - val_accuracy: 0.8966\n",
      "Epoch 16/20\n",
      "8/8 [==============================] - 4s 556ms/step - loss: 0.0177 - accuracy: 0.9957 - val_loss: 0.4876 - val_accuracy: 0.8448\n",
      "Epoch 17/20\n",
      "8/8 [==============================] - 4s 433ms/step - loss: 0.0227 - accuracy: 1.0000 - val_loss: 0.5586 - val_accuracy: 0.8103\n",
      "Epoch 18/20\n",
      "8/8 [==============================] - 3s 390ms/step - loss: 0.0196 - accuracy: 0.9957 - val_loss: 0.6974 - val_accuracy: 0.8103\n",
      "Epoch 19/20\n",
      "8/8 [==============================] - 3s 379ms/step - loss: 0.0221 - accuracy: 0.9957 - val_loss: 0.4223 - val_accuracy: 0.8448\n",
      "Epoch 20/20\n",
      "8/8 [==============================] - 3s 400ms/step - loss: 0.0076 - accuracy: 1.0000 - val_loss: 0.4628 - val_accuracy: 0.8103\n"
     ]
    }
   ],
   "source": [
    "history=model.fit(x_train,y_train,validation_data=(x_test,y_test), epochs=20, verbose=1)"
   ]
  },
  {
   "cell_type": "code",
   "execution_count": 28,
   "id": "e6916e25-62d4-414d-96c1-9b6d68688755",
   "metadata": {},
   "outputs": [],
   "source": [
    "model.save('my_cnn_model.h5')"
   ]
  },
  {
   "cell_type": "code",
   "execution_count": 2,
   "id": "73e761a3-977a-4071-bc06-b4fec2d7a731",
   "metadata": {},
   "outputs": [],
   "source": [
    "#Transfer Learning"
   ]
  },
  {
   "cell_type": "code",
   "execution_count": 3,
   "id": "ab9f68c3-4edb-42fc-b46b-4ee3bdbe3aeb",
   "metadata": {},
   "outputs": [],
   "source": [
    "# VGGNET, ResNet50, Inceptionv3, Xception, MobileNetV2 kütüphaneleriyle deneyecgz"
   ]
  },
  {
   "cell_type": "code",
   "execution_count": 1,
   "id": "57735dcd-7bf8-4f67-b544-efddfce7a077",
   "metadata": {},
   "outputs": [],
   "source": [
    "from keras.models import Sequential\n",
    "from keras. layers import Conv2D, Dense, Flatten, Input, MaxPooling2D, Dropout, BatchNormalization, Reshape\n",
    "from tensorflow.keras. applications import VGG16, ResNet50\n",
    "from tensorflow.keras.preprocessing. image import ImageDataGenerator"
   ]
  },
  {
   "cell_type": "code",
   "execution_count": 2,
   "id": "bbbf8b2f-b87f-428a-a0fc-d4eb540784fd",
   "metadata": {},
   "outputs": [
    {
     "name": "stdout",
     "output_type": "stream",
     "text": [
      "Found 232 images belonging to 2 classes.\n",
      "Found 56 images belonging to 2 classes.\n",
      "Downloading data from https://storage.googleapis.com/tensorflow/keras-applications/vgg16/vgg16_weights_tf_dim_ordering_tf_kernels_notop.h5\n",
      "58889256/58889256 [==============================] - 6s 0us/step\n",
      "Epoch 1/10\n",
      "8/8 [==============================] - 24s 3s/step - loss: 2.4520 - accuracy: 0.6422 - val_loss: 0.6178 - val_accuracy: 0.7143\n",
      "Epoch 2/10\n",
      "8/8 [==============================] - 21s 3s/step - loss: 0.4307 - accuracy: 0.7845 - val_loss: 0.4405 - val_accuracy: 0.7857\n",
      "Epoch 3/10\n",
      "8/8 [==============================] - 24s 3s/step - loss: 0.3110 - accuracy: 0.8578 - val_loss: 0.4227 - val_accuracy: 0.7857\n",
      "Epoch 4/10\n",
      "8/8 [==============================] - 24s 3s/step - loss: 0.2429 - accuracy: 0.9052 - val_loss: 0.4055 - val_accuracy: 0.8036\n",
      "Epoch 5/10\n",
      "8/8 [==============================] - 24s 3s/step - loss: 0.2106 - accuracy: 0.9138 - val_loss: 0.3600 - val_accuracy: 0.8036\n",
      "Epoch 6/10\n",
      "8/8 [==============================] - 24s 3s/step - loss: 0.1659 - accuracy: 0.9612 - val_loss: 0.3786 - val_accuracy: 0.8036\n",
      "Epoch 7/10\n",
      "8/8 [==============================] - 24s 3s/step - loss: 0.1445 - accuracy: 0.9784 - val_loss: 0.3600 - val_accuracy: 0.8393\n",
      "Epoch 8/10\n",
      "8/8 [==============================] - 23s 3s/step - loss: 0.1320 - accuracy: 0.9655 - val_loss: 0.3395 - val_accuracy: 0.8393\n",
      "Epoch 9/10\n",
      "8/8 [==============================] - 23s 3s/step - loss: 0.1155 - accuracy: 0.9828 - val_loss: 0.3437 - val_accuracy: 0.8750\n",
      "Epoch 10/10\n",
      "8/8 [==============================] - 24s 3s/step - loss: 0.1033 - accuracy: 0.9828 - val_loss: 0.3248 - val_accuracy: 0.8393\n"
     ]
    },
    {
     "data": {
      "text/plain": [
       "<keras.callbacks.History at 0x2afde853a60>"
      ]
     },
     "execution_count": 2,
     "metadata": {},
     "output_type": "execute_result"
    }
   ],
   "source": [
    "data_dir='Skin_Data'\n",
    "img_width, img_heigth=170,170\n",
    "\n",
    "#train test split kısmını burda yapıyo, aşağıda model add kısımları transfer old için çok daha kısa\n",
    "train_datagen=ImageDataGenerator(rescale=1/255, validation_split =.20)\n",
    "#normalizasyon için resclae yapıyoruz\n",
    "\n",
    "train_datagenerator=train_datagen.flow_from_directory(directory=data_dir, target_size=(img_width,img_heigth),\n",
    "class_mode='binary', subset='training')\n",
    "#sonuç olarak iki sınıf old için binary\n",
    "\n",
    "test_datagen=ImageDataGenerator(rescale=1/255)\n",
    "\n",
    "test_datagenerator=train_datagen.flow_from_directory(directory=data_dir,target_size=(img_width,img_heigth),\n",
    "                                                     class_mode='binary', subset='validation')\n",
    "\n",
    "base_model=VGG16(weights='imagenet', input_shape=(img_width,img_heigth,3), include_top=False)\n",
    "#foto renkli old için 3 yazdık\n",
    "#resnet50 modelini kullandık\n",
    "\n",
    "model=Sequential()\n",
    "\n",
    "model.add(base_model)\n",
    "#eğitilmiş modeli freeze edip dondurup kendi verilerimizi eklicez öyle eğitmeye devam edicez o yüzden trainable false dedik\n",
    "for layer in base_model.layers:\n",
    "    layer.trainable=False\n",
    "\n",
    "#dense demek bütün layerların birbirine bağlanması demek\n",
    "model.add(Flatten())\n",
    "model.add(Dense(1024,activation='relu'))\n",
    "model.add(Dense(1,activation='sigmoid'))\n",
    "\n",
    "model.compile(optimizer='adam',loss='binary_crossentropy',metrics=['accuracy'])\n",
    "\n",
    "model.fit(train_datagenerator,epochs=10,validation_data=test_datagenerator)\n",
    "\n"
   ]
  },
  {
   "cell_type": "code",
   "execution_count": 3,
   "id": "b4f23a9e-2375-473d-91f5-6ba679e81b3b",
   "metadata": {},
   "outputs": [
    {
     "data": {
      "text/plain": [
       "'\\nimport autokeras as ak\\n\\nclf = ak. ImageClassifier()\\nclf. fit(x_train, y_train)\\nresults = clf.predict(x_test)\\n'"
      ]
     },
     "execution_count": 3,
     "metadata": {},
     "output_type": "execute_result"
    }
   ],
   "source": [
    "#autokeras optimum layer vs yi ayarlıyor\n",
    "\"\"\"\n",
    "import autokeras as ak\n",
    "\n",
    "clf = ak. ImageClassifier()\n",
    "clf. fit(x_train, y_train)\n",
    "results = clf.predict(x_test)\n",
    "\"\"\""
   ]
  },
  {
   "cell_type": "code",
   "execution_count": 4,
   "id": "09ae4966-0a47-4d0a-940d-0937f83ceee3",
   "metadata": {},
   "outputs": [
    {
     "name": "stdout",
     "output_type": "stream",
     "text": [
      "Model: \"sequential\"\n",
      "_________________________________________________________________\n",
      " Layer (type)                Output Shape              Param #   \n",
      "=================================================================\n",
      " vgg16 (Functional)          (None, 5, 5, 512)         14714688  \n",
      "                                                                 \n",
      " flatten (Flatten)           (None, 12800)             0         \n",
      "                                                                 \n",
      " dense (Dense)               (None, 1024)              13108224  \n",
      "                                                                 \n",
      " dense_1 (Dense)             (None, 1)                 1025      \n",
      "                                                                 \n",
      "=================================================================\n",
      "Total params: 27,823,937\n",
      "Trainable params: 13,109,249\n",
      "Non-trainable params: 14,714,688\n",
      "_________________________________________________________________\n"
     ]
    }
   ],
   "source": [
    "model.summary()"
   ]
  },
  {
   "cell_type": "code",
   "execution_count": 5,
   "id": "3f2394b3-5f3e-4864-9400-c3d3ba669a7d",
   "metadata": {},
   "outputs": [],
   "source": [
    "#resnet e bir şey eklemeden direkt fotoda ne olduğunu tahmin ettirelim"
   ]
  },
  {
   "cell_type": "code",
   "execution_count": 6,
   "id": "43ff8a1e-4c87-478c-a789-d77fb895714d",
   "metadata": {},
   "outputs": [],
   "source": [
    "from tensorflow. keras. applications.resnet50 import ResNet50\n",
    "from tensorflow.keras.preprocessing import image #img okumak için\n",
    "from tensorflow.keras. applications.resnet50 import preprocess_input, decode_predictions\n",
    "#prep olan fotoyu kullanıma hazırlıyo\n",
    "#decode pred layerı söylüyor\n",
    "import numpy as np"
   ]
  },
  {
   "cell_type": "code",
   "execution_count": 7,
   "id": "71c1e402-f26f-48b7-b21d-eefc08c6a43f",
   "metadata": {
    "scrolled": true
   },
   "outputs": [
    {
     "data": {
      "image/jpeg": "[encoded data removed]",
      "text/plain": [
       "<IPython.core.display.Image object>"
      ]
     },
     "execution_count": 7,
     "metadata": {},
     "output_type": "execute_result"
    }
   ],
   "source": [
    "from IPython.display import Image\n",
    "Image('savasucagi.jpg')"
   ]
  },
  {
   "cell_type": "code",
   "execution_count": 8,
   "id": "645475eb-b75a-4cc8-a938-e7cbb3f9a7a3",
   "metadata": {},
   "outputs": [],
   "source": [
    "img=image.load_img('savasucagi.jpg',target_size=(224,224))\n",
    "img=image.img_to_array(img)\n",
    "img=np.expand_dims(img,axis=0)\n",
    "img=preprocess_input(img)"
   ]
  },
  {
   "cell_type": "code",
   "execution_count": 9,
   "id": "b8ce9df8-e6bd-4a10-9616-f4ec5dcf9390",
   "metadata": {},
   "outputs": [
    {
     "name": "stdout",
     "output_type": "stream",
     "text": [
      "Downloading data from https://storage.googleapis.com/tensorflow/keras-applications/resnet/resnet50_weights_tf_dim_ordering_tf_kernels.h5\n",
      "102967424/102967424 [==============================] - 11s 0us/step\n"
     ]
    }
   ],
   "source": [
    "model=ResNet50(weights='imagenet')"
   ]
  },
  {
   "cell_type": "code",
   "execution_count": 10,
   "id": "eaac0e7d-9e56-4610-af21-db29c6190e49",
   "metadata": {},
   "outputs": [
    {
     "name": "stdout",
     "output_type": "stream",
     "text": [
      "1/1 [==============================] - 1s 1s/step\n"
     ]
    }
   ],
   "source": [
    "pred=model.predict(img)"
   ]
  },
  {
   "cell_type": "code",
   "execution_count": 11,
   "id": "141cb59c-36ac-4e13-bc21-6ab6f87153f4",
   "metadata": {},
   "outputs": [
    {
     "name": "stdout",
     "output_type": "stream",
     "text": [
      "Downloading data from https://storage.googleapis.com/download.tensorflow.org/data/imagenet_class_index.json\n",
      "35363/35363 [==============================] - 0s 0us/step\n"
     ]
    },
    {
     "data": {
      "text/plain": [
       "[[('n04552348', 'warplane', 0.9733984)]]"
      ]
     },
     "execution_count": 11,
     "metadata": {},
     "output_type": "execute_result"
    }
   ],
   "source": [
    "decode_predictions(pred, top=1)"
   ]
  },
  {
   "cell_type": "code",
   "execution_count": 12,
   "id": "302851f2-b03e-428b-baf2-f74fbddd8117",
   "metadata": {},
   "outputs": [],
   "source": [
    "# CI/CD continious Integration / Continious Development"
   ]
  },
  {
   "cell_type": "code",
   "execution_count": 13,
   "id": "a8c2304e-ea1e-4e60-9422-03b25477f327",
   "metadata": {},
   "outputs": [],
   "source": [
    "#U-M Maizey In Depth projesi mich uni yapmış, hocaların ders kayıtları slaytlar vs deki tüm verileri eğitip\n",
    "#bir soru vs sorulduğunda ona uygun cevabı getiriyor, o cevabı hangi videoda hangi sn de  old söylüyo"
   ]
  },
  {
   "cell_type": "code",
   "execution_count": null,
   "id": "16c31459-10c5-487d-82f2-adf615dc178c",
   "metadata": {},
   "outputs": [],
   "source": []
  }
 ],
 "metadata": {
  "kernelspec": {
   "display_name": "Python 3 (ipykernel)",
   "language": "python",
   "name": "python3"
  },
  "language_info": {
   "codemirror_mode": {
    "name": "ipython",
    "version": 3
   },
   "file_extension": ".py",
   "mimetype": "text/x-python",
   "name": "python",
   "nbconvert_exporter": "python",
   "pygments_lexer": "ipython3",
   "version": "3.10.12"
  }
 },
 "nbformat": 4,
 "nbformat_minor": 5
}
