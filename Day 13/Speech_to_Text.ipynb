{
  "cells": [
    {
      "cell_type": "code",
      "execution_count": null,
      "id": "a980630c-7a1c-4669-b4dd-1c320a1bc0fc",
      "metadata": {
        "id": "a980630c-7a1c-4669-b4dd-1c320a1bc0fc"
      },
      "outputs": [],
      "source": [
        "#tortoise python deep fake, tortoise istediğin sese istediğini okutturuyo\n",
        "#başka dillerde de konuşturuyo ama çıktı almak uzun sürüyo"
      ]
    },
    {
      "cell_type": "code",
      "execution_count": 2,
      "id": "512b6b90-d3df-4fd3-acad-41d5491c82a2",
      "metadata": {
        "colab": {
          "base_uri": "https://localhost:8080/",
          "height": 70
        },
        "id": "512b6b90-d3df-4fd3-acad-41d5491c82a2",
        "outputId": "b27c81e1-072b-48cb-b0a5-616e0fcdbcc2"
      },
      "outputs": [
        {
          "output_type": "execute_result",
          "data": {
            "text/plain": [
              "\"\\n#!pip install pytube\\nimport pytube\\n\\nvideo='https://www.youtube.com/watch?v=jZOywn1qArI'\\ndata=pytube.YouTube(video)\\n\\naudio=data.streams.get_audio_only()\\naudio.download()\""
            ],
            "application/vnd.google.colaboratory.intrinsic+json": {
              "type": "string"
            }
          },
          "metadata": {},
          "execution_count": 2
        }
      ],
      "source": [
        "#bu çalışmadı alttakini kullandım\n",
        "\"\"\"\n",
        "#!pip install pytube\n",
        "import pytube\n",
        "\n",
        "video='https://www.youtube.com/watch?v=jZOywn1qArI'\n",
        "data=pytube.YouTube(video)\n",
        "\n",
        "audio=data.streams.get_audio_only()\n",
        "audio.download()\"\"\""
      ]
    },
    {
      "cell_type": "code",
      "execution_count": 4,
      "id": "69d7c97b-c812-4d6c-b9bc-6cf99f799b48",
      "metadata": {
        "colab": {
          "base_uri": "https://localhost:8080/"
        },
        "id": "69d7c97b-c812-4d6c-b9bc-6cf99f799b48",
        "outputId": "c6d9ee69-2b07-42b0-9573-f0e33c2ed28b"
      },
      "outputs": [
        {
          "output_type": "stream",
          "name": "stdout",
          "text": [
            "Collecting yt-dlp\n",
            "  Downloading yt_dlp-2024.8.6-py3-none-any.whl.metadata (170 kB)\n",
            "\u001b[?25l     \u001b[90m━━━━━━━━━━━━━━━━━━━━━━━━━━━━━━━━━━━━━━━━\u001b[0m \u001b[32m0.0/170.1 kB\u001b[0m \u001b[31m?\u001b[0m eta \u001b[36m-:--:--\u001b[0m\r\u001b[2K     \u001b[90m━━━━━━━━━━━━━━━━━━━━━━━━━━━━━━━━━━━━━━━━\u001b[0m \u001b[32m170.1/170.1 kB\u001b[0m \u001b[31m8.2 MB/s\u001b[0m eta \u001b[36m0:00:00\u001b[0m\n",
            "\u001b[?25hCollecting brotli (from yt-dlp)\n",
            "  Downloading Brotli-1.1.0-cp310-cp310-manylinux_2_5_x86_64.manylinux1_x86_64.manylinux_2_12_x86_64.manylinux2010_x86_64.whl.metadata (5.5 kB)\n",
            "Requirement already satisfied: certifi in /usr/local/lib/python3.10/dist-packages (from yt-dlp) (2024.8.30)\n",
            "Collecting mutagen (from yt-dlp)\n",
            "  Downloading mutagen-1.47.0-py3-none-any.whl.metadata (1.7 kB)\n",
            "Collecting pycryptodomex (from yt-dlp)\n",
            "  Downloading pycryptodomex-3.20.0-cp35-abi3-manylinux_2_17_x86_64.manylinux2014_x86_64.whl.metadata (3.4 kB)\n",
            "Requirement already satisfied: requests<3,>=2.32.2 in /usr/local/lib/python3.10/dist-packages (from yt-dlp) (2.32.3)\n",
            "Requirement already satisfied: urllib3<3,>=1.26.17 in /usr/local/lib/python3.10/dist-packages (from yt-dlp) (2.2.3)\n",
            "Collecting websockets>=12.0 (from yt-dlp)\n",
            "  Downloading websockets-13.1-cp310-cp310-manylinux_2_5_x86_64.manylinux1_x86_64.manylinux_2_17_x86_64.manylinux2014_x86_64.whl.metadata (6.8 kB)\n",
            "Requirement already satisfied: charset-normalizer<4,>=2 in /usr/local/lib/python3.10/dist-packages (from requests<3,>=2.32.2->yt-dlp) (3.3.2)\n",
            "Requirement already satisfied: idna<4,>=2.5 in /usr/local/lib/python3.10/dist-packages (from requests<3,>=2.32.2->yt-dlp) (3.10)\n",
            "Downloading yt_dlp-2024.8.6-py3-none-any.whl (3.1 MB)\n",
            "\u001b[2K   \u001b[90m━━━━━━━━━━━━━━━━━━━━━━━━━━━━━━━━━━━━━━━━\u001b[0m \u001b[32m3.1/3.1 MB\u001b[0m \u001b[31m42.5 MB/s\u001b[0m eta \u001b[36m0:00:00\u001b[0m\n",
            "\u001b[?25hDownloading websockets-13.1-cp310-cp310-manylinux_2_5_x86_64.manylinux1_x86_64.manylinux_2_17_x86_64.manylinux2014_x86_64.whl (164 kB)\n",
            "\u001b[2K   \u001b[90m━━━━━━━━━━━━━━━━━━━━━━━━━━━━━━━━━━━━━━━━\u001b[0m \u001b[32m164.1/164.1 kB\u001b[0m \u001b[31m11.1 MB/s\u001b[0m eta \u001b[36m0:00:00\u001b[0m\n",
            "\u001b[?25hDownloading Brotli-1.1.0-cp310-cp310-manylinux_2_5_x86_64.manylinux1_x86_64.manylinux_2_12_x86_64.manylinux2010_x86_64.whl (3.0 MB)\n",
            "\u001b[2K   \u001b[90m━━━━━━━━━━━━━━━━━━━━━━━━━━━━━━━━━━━━━━━━\u001b[0m \u001b[32m3.0/3.0 MB\u001b[0m \u001b[31m33.4 MB/s\u001b[0m eta \u001b[36m0:00:00\u001b[0m\n",
            "\u001b[?25hDownloading mutagen-1.47.0-py3-none-any.whl (194 kB)\n",
            "\u001b[2K   \u001b[90m━━━━━━━━━━━━━━━━━━━━━━━━━━━━━━━━━━━━━━━━\u001b[0m \u001b[32m194.4/194.4 kB\u001b[0m \u001b[31m12.5 MB/s\u001b[0m eta \u001b[36m0:00:00\u001b[0m\n",
            "\u001b[?25hDownloading pycryptodomex-3.20.0-cp35-abi3-manylinux_2_17_x86_64.manylinux2014_x86_64.whl (2.1 MB)\n",
            "\u001b[2K   \u001b[90m━━━━━━━━━━━━━━━━━━━━━━━━━━━━━━━━━━━━━━━━\u001b[0m \u001b[32m2.1/2.1 MB\u001b[0m \u001b[31m43.4 MB/s\u001b[0m eta \u001b[36m0:00:00\u001b[0m\n",
            "\u001b[?25hInstalling collected packages: brotli, websockets, pycryptodomex, mutagen, yt-dlp\n",
            "Successfully installed brotli-1.1.0 mutagen-1.47.0 pycryptodomex-3.20.0 websockets-13.1 yt-dlp-2024.8.6\n",
            "[youtube] Extracting URL: https://www.youtube.com/watch?v=jZOywn1qArI\n",
            "[youtube] jZOywn1qArI: Downloading webpage\n",
            "[youtube] jZOywn1qArI: Downloading ios player API JSON\n",
            "[youtube] jZOywn1qArI: Downloading web creator player API JSON\n",
            "[youtube] jZOywn1qArI: Downloading player b0557ce3\n",
            "[youtube] jZOywn1qArI: Downloading m3u8 information\n",
            "[info] jZOywn1qArI: Downloading 1 format(s): 251\n",
            "[download] Destination: Taken Phone Speech [HD].webm\n",
            "[download] 100% of  856.57KiB in 00:00:00 at 10.82MiB/s  \n"
          ]
        }
      ],
      "source": [
        "#!pip install yt-dlp\n",
        "from yt_dlp import YoutubeDL\n",
        "\n",
        "video_url = \"https://www.youtube.com/watch?v=jZOywn1qArI\"\n",
        "\n",
        "# Yalnızca ses indirmek için seçenekler\n",
        "ydl_opts = {\n",
        "    'format': 'bestaudio/best',\n",
        "    'outtmpl': '%(title)s.%(ext)s',\n",
        "}\n",
        "\n",
        "with YoutubeDL(ydl_opts) as ydl:\n",
        "    ydl.download([video_url])"
      ]
    },
    {
      "cell_type": "code",
      "execution_count": 6,
      "id": "4e1ea19c-70bc-4a45-aa2c-2874f8352bef",
      "metadata": {
        "id": "4e1ea19c-70bc-4a45-aa2c-2874f8352bef"
      },
      "outputs": [],
      "source": [
        "#!pip install git+https://github.com/openai/whisper.git -q\n",
        "#whisper sesi yazıya çeviriyo"
      ]
    },
    {
      "cell_type": "code",
      "execution_count": 7,
      "id": "7a7d62e5-5881-4c4e-be87-d0cc49de95e5",
      "metadata": {
        "id": "7a7d62e5-5881-4c4e-be87-d0cc49de95e5"
      },
      "outputs": [],
      "source": [
        "import whisper"
      ]
    },
    {
      "cell_type": "code",
      "execution_count": 8,
      "id": "b8772d3f-f754-4153-b536-b24b99b7b3cb",
      "metadata": {
        "colab": {
          "base_uri": "https://localhost:8080/"
        },
        "id": "b8772d3f-f754-4153-b536-b24b99b7b3cb",
        "outputId": "640bb7d7-38bc-4a89-c680-c9db3de3d9a0"
      },
      "outputs": [
        {
          "output_type": "stream",
          "name": "stderr",
          "text": [
            "100%|█████████████████████████████████████| 2.88G/2.88G [01:02<00:00, 49.5MiB/s]\n",
            "/usr/local/lib/python3.10/dist-packages/whisper/__init__.py:146: FutureWarning: You are using `torch.load` with `weights_only=False` (the current default value), which uses the default pickle module implicitly. It is possible to construct malicious pickle data which will execute arbitrary code during unpickling (See https://github.com/pytorch/pytorch/blob/main/SECURITY.md#untrusted-models for more details). In a future release, the default value for `weights_only` will be flipped to `True`. This limits the functions that could be executed during unpickling. Arbitrary objects will no longer be allowed to be loaded via this mode unless they are explicitly allowlisted by the user via `torch.serialization.add_safe_globals`. We recommend you start setting `weights_only=True` for any use case where you don't have full control of the loaded file. Please open an issue on GitHub for any issues related to this experimental feature.\n",
            "  checkpoint = torch.load(fp, map_location=device)\n"
          ]
        }
      ],
      "source": [
        "model=whisper.load_model('large')"
      ]
    },
    {
      "cell_type": "code",
      "source": [
        "#video adını liam yaptık\n",
        "text=model.transcribe('/content/Liam.webm')"
      ],
      "metadata": {
        "colab": {
          "base_uri": "https://localhost:8080/"
        },
        "id": "kU-6srLJdzLB",
        "outputId": "7112cffa-0b28-4506-e69c-087ccf975faa"
      },
      "id": "kU-6srLJdzLB",
      "execution_count": 9,
      "outputs": [
        {
          "output_type": "stream",
          "name": "stderr",
          "text": [
            "/usr/local/lib/python3.10/dist-packages/whisper/transcribe.py:126: UserWarning: FP16 is not supported on CPU; using FP32 instead\n",
            "  warnings.warn(\"FP16 is not supported on CPU; using FP32 instead\")\n"
          ]
        }
      ]
    },
    {
      "cell_type": "code",
      "source": [
        "text['text']"
      ],
      "metadata": {
        "colab": {
          "base_uri": "https://localhost:8080/",
          "height": 122
        },
        "id": "3rp09YRMeRFZ",
        "outputId": "ed9638cb-20c3-4b62-d4d0-d1b00b2c2304"
      },
      "id": "3rp09YRMeRFZ",
      "execution_count": 11,
      "outputs": [
        {
          "output_type": "execute_result",
          "data": {
            "text/plain": [
              "\" I don't know who you are. I don't know what you want. If you are looking for ransom, I can tell you I don't have money. But what I do have are a very particular set of skills. Skills I have acquired over a very long career. Skills that make me a nightmare for people like you. If you let my daughter go now, that'll be the end of it. I will not look for you. I will not pursue you. But if you don't, I will look for you. I will find you. And I will kill you. Good luck. you\""
            ],
            "application/vnd.google.colaboratory.intrinsic+json": {
              "type": "string"
            }
          },
          "metadata": {},
          "execution_count": 11
        }
      ]
    },
    {
      "cell_type": "code",
      "source": [
        "#bizim bilgisayarlar yavaş kalıyo o yüzden başka bilgisayarlar kiralamamız lazım\n",
        "#google cloud platform (gcp)\n",
        "#Microsoft Azure: Cloud Computing Services\n",
        "#Cloud Computing Services - Amazon Web Services (AWS)\n",
        "\n",
        "#docker kesin öğrenilmeli\n",
        "#kubernetes, bir sürü docker varsa burdan kontrol ederiz\n",
        "\n"
      ],
      "metadata": {
        "id": "w599rBGHeZGC"
      },
      "id": "w599rBGHeZGC",
      "execution_count": null,
      "outputs": []
    }
  ],
  "metadata": {
    "kernelspec": {
      "display_name": "Python 3 (ipykernel)",
      "language": "python",
      "name": "python3"
    },
    "language_info": {
      "codemirror_mode": {
        "name": "ipython",
        "version": 3
      },
      "file_extension": ".py",
      "mimetype": "text/x-python",
      "name": "python",
      "nbconvert_exporter": "python",
      "pygments_lexer": "ipython3",
      "version": "3.10.12"
    },
    "colab": {
      "provenance": []
    }
  },
  "nbformat": 4,
  "nbformat_minor": 5
}