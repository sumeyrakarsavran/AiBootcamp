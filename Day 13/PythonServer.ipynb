{
 "cells": [
  {
   "cell_type": "code",
   "execution_count": null,
   "id": "e123032d-abd0-4efb-94b3-16392a860f17",
   "metadata": {},
   "outputs": [],
   "source": [
    "#bu hep çalışır kalıyo ve içinde bulunduğu klasörde server gibi davranıyor\n",
    "!python -m http.server 8000"
   ]
  },
  {
   "cell_type": "code",
   "execution_count": null,
   "id": "6600909e-4fd8-47a8-94ca-3844d245d965",
   "metadata": {},
   "outputs": [],
   "source": []
  }
 ],
 "metadata": {
  "kernelspec": {
   "display_name": "env",
   "language": "python",
   "name": "python3"
  },
  "language_info": {
   "codemirror_mode": {
    "name": "ipython",
    "version": 3
   },
   "file_extension": ".py",
   "mimetype": "text/x-python",
   "name": "python",
   "nbconvert_exporter": "python",
   "pygments_lexer": "ipython3",
   "version": "3.10.12"
  }
 },
 "nbformat": 4,
 "nbformat_minor": 5
}
