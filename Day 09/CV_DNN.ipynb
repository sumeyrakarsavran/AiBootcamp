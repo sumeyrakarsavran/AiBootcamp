{
  "cells": [
    {
      "cell_type": "code",
      "execution_count": 1,
      "id": "6b21cec4-8b30-43e9-b681-4448962492be",
      "metadata": {
        "id": "6b21cec4-8b30-43e9-b681-4448962492be"
      },
      "outputs": [],
      "source": [
        "#pip install bing-image-downloader"
      ]
    },
    {
      "cell_type": "code",
      "source": [
        "#tek bir satırla tüm foto kısayollarından fotoları df e aktaran kod\n",
        "#df = tf.keras.utils.image_dataset_from_directory('Skin_Data')"
      ],
      "metadata": {
        "id": "Z-tWkH5-AnWK"
      },
      "id": "Z-tWkH5-AnWK",
      "execution_count": null,
      "outputs": []
    },
    {
      "cell_type": "code",
      "execution_count": 2,
      "id": "4642e696-05e5-4f06-9302-8d59299a7781",
      "metadata": {
        "colab": {
          "base_uri": "https://localhost:8080/",
          "height": 314
        },
        "id": "4642e696-05e5-4f06-9302-8d59299a7781",
        "outputId": "0e7919f8-6d82-4184-937d-3f9b48363376"
      },
      "outputs": [
        {
          "output_type": "error",
          "ename": "ModuleNotFoundError",
          "evalue": "No module named 'bing_image_downloader'",
          "traceback": [
            "\u001b[0;31m---------------------------------------------------------------------------\u001b[0m",
            "\u001b[0;31mModuleNotFoundError\u001b[0m                       Traceback (most recent call last)",
            "\u001b[0;32m<ipython-input-2-68fcf22e3a9c>\u001b[0m in \u001b[0;36m<cell line: 1>\u001b[0;34m()\u001b[0m\n\u001b[0;32m----> 1\u001b[0;31m \u001b[0;32mfrom\u001b[0m \u001b[0mbing_image_downloader\u001b[0m \u001b[0;32mimport\u001b[0m \u001b[0mdownloader\u001b[0m\u001b[0;34m\u001b[0m\u001b[0;34m\u001b[0m\u001b[0m\n\u001b[0m",
            "\u001b[0;31mModuleNotFoundError\u001b[0m: No module named 'bing_image_downloader'",
            "",
            "\u001b[0;31m---------------------------------------------------------------------------\u001b[0;32m\nNOTE: If your import is failing due to a missing package, you can\nmanually install dependencies using either !pip or !apt.\n\nTo view examples of installing some common dependencies, click the\n\"Open Examples\" button below.\n\u001b[0;31m---------------------------------------------------------------------------\u001b[0m\n"
          ],
          "errorDetails": {
            "actions": [
              {
                "action": "open_url",
                "actionText": "Open Examples",
                "url": "/notebooks/snippets/importing_libraries.ipynb"
              }
            ]
          }
        }
      ],
      "source": [
        "#from bing_image_downloader import downloader"
      ]
    },
    {
      "cell_type": "code",
      "execution_count": null,
      "id": "4343129c-e030-44c3-8313-02ba17a23f9e",
      "metadata": {
        "id": "4343129c-e030-44c3-8313-02ba17a23f9e"
      },
      "outputs": [],
      "source": [
        "#örnek olsun diye 100 foto indirdik. proje yapılacaksa en az 1000 foto olsun\n",
        "#downloader.download('horse', limit=100, adult_filter_off=False) #adult false ise sakıncalı resimleri indirme demek olur"
      ]
    },
    {
      "cell_type": "markdown",
      "id": "cf0f4381-e9a2-40c0-b65c-b586aec381fc",
      "metadata": {
        "id": "cf0f4381-e9a2-40c0-b65c-b586aec381fc"
      },
      "source": [
        "# Computer Vision with DNN"
      ]
    },
    {
      "cell_type": "code",
      "execution_count": 3,
      "id": "18b0bb89-9945-4d44-bf1a-ee3bc2b3ece2",
      "metadata": {
        "id": "18b0bb89-9945-4d44-bf1a-ee3bc2b3ece2"
      },
      "outputs": [],
      "source": [
        "import tensorflow as tf"
      ]
    },
    {
      "cell_type": "code",
      "execution_count": 7,
      "id": "f1f0d15c-ee9e-4478-bef5-c7b6ec5bb31b",
      "metadata": {
        "id": "f1f0d15c-ee9e-4478-bef5-c7b6ec5bb31b"
      },
      "outputs": [],
      "source": [
        "mnist=tf.keras.datasets.mnist # el yazmasi rakamlari tanima, yaklaşık 70000 el yazısıyla rakam fotosu"
      ]
    },
    {
      "cell_type": "code",
      "execution_count": 8,
      "id": "f75a8d32-416a-4e88-a5ac-080f29d7c7a0",
      "metadata": {
        "colab": {
          "base_uri": "https://localhost:8080/",
          "height": 0
        },
        "id": "f75a8d32-416a-4e88-a5ac-080f29d7c7a0",
        "outputId": "b250dda2-be88-4972-879a-2137ba03e227"
      },
      "outputs": [
        {
          "output_type": "stream",
          "name": "stdout",
          "text": [
            "Downloading data from https://storage.googleapis.com/tensorflow/tf-keras-datasets/mnist.npz\n",
            "\u001b[1m11490434/11490434\u001b[0m \u001b[32m━━━━━━━━━━━━━━━━━━━━\u001b[0m\u001b[37m\u001b[0m \u001b[1m0s\u001b[0m 0us/step\n"
          ]
        }
      ],
      "source": [
        "(train_images, train_labels), (test_images, test_labels)=mnist.load_data()"
      ]
    },
    {
      "cell_type": "code",
      "execution_count": 9,
      "id": "7fc7c6d4-da61-4c1c-847a-6e5dfbdb5535",
      "metadata": {
        "colab": {
          "base_uri": "https://localhost:8080/",
          "height": 0
        },
        "id": "7fc7c6d4-da61-4c1c-847a-6e5dfbdb5535",
        "outputId": "924dd770-1eab-44f6-8ed1-b2cbbd81c51d"
      },
      "outputs": [
        {
          "output_type": "execute_result",
          "data": {
            "text/plain": [
              "(60000, 28, 28)"
            ]
          },
          "metadata": {},
          "execution_count": 9
        }
      ],
      "source": [
        "train_images.shape"
      ]
    },
    {
      "cell_type": "code",
      "execution_count": 10,
      "id": "5b4ed0bd-4ac8-4997-8caa-49f790f03e35",
      "metadata": {
        "colab": {
          "base_uri": "https://localhost:8080/",
          "height": 0
        },
        "id": "5b4ed0bd-4ac8-4997-8caa-49f790f03e35",
        "outputId": "ce887dc2-68b6-476c-d6b8-b738121623a4"
      },
      "outputs": [
        {
          "output_type": "execute_result",
          "data": {
            "text/plain": [
              "(10000, 28, 28)"
            ]
          },
          "metadata": {},
          "execution_count": 10
        }
      ],
      "source": [
        "test_images.shape"
      ]
    },
    {
      "cell_type": "code",
      "execution_count": 11,
      "id": "6ce5d6db-63a9-47c0-857e-c1fae1f60b2f",
      "metadata": {
        "id": "6ce5d6db-63a9-47c0-857e-c1fae1f60b2f"
      },
      "outputs": [],
      "source": [
        "import matplotlib.pyplot as plt"
      ]
    },
    {
      "cell_type": "code",
      "execution_count": 12,
      "id": "013ad62c-87eb-40e5-8844-db3cf83c887d",
      "metadata": {
        "colab": {
          "base_uri": "https://localhost:8080/",
          "height": 447
        },
        "id": "013ad62c-87eb-40e5-8844-db3cf83c887d",
        "outputId": "d574b500-98f0-4a1b-b2b8-1f3da3f7e723"
      },
      "outputs": [
        {
          "output_type": "execute_result",
          "data": {
            "text/plain": [
              "<matplotlib.image.AxesImage at 0x7b97a9820940>"
            ]
          },
          "metadata": {},
          "execution_count": 12
        },
        {
          "output_type": "display_data",
          "data": {
            "text/plain": [
              "<Figure size 640x480 with 1 Axes>"
            ],
            "image/png": "[encoded data removed]"
          },
          "metadata": {}
        }
      ],
      "source": [
        "plt.imshow(train_images[0],cmap='gray')"
      ]
    },
    {
      "cell_type": "code",
      "execution_count": 13,
      "id": "cf10224a-a05a-4f57-8645-5047fe859a22",
      "metadata": {
        "colab": {
          "base_uri": "https://localhost:8080/",
          "height": 447
        },
        "id": "cf10224a-a05a-4f57-8645-5047fe859a22",
        "outputId": "21835a4b-9290-4668-845d-61666892ae6f"
      },
      "outputs": [
        {
          "output_type": "execute_result",
          "data": {
            "text/plain": [
              "<matplotlib.image.AxesImage at 0x7b97a4114610>"
            ]
          },
          "metadata": {},
          "execution_count": 13
        },
        {
          "output_type": "display_data",
          "data": {
            "text/plain": [
              "<Figure size 640x480 with 1 Axes>"
            ],
            "image/png": "[encoded data removed]"
          },
          "metadata": {}
        }
      ],
      "source": [
        "plt.imshow(train_images[10000],cmap='gray')"
      ]
    },
    {
      "cell_type": "code",
      "execution_count": 14,
      "id": "6232d493-557c-4be4-9313-69fa7feb8415",
      "metadata": {
        "colab": {
          "base_uri": "https://localhost:8080/",
          "height": 447
        },
        "id": "6232d493-557c-4be4-9313-69fa7feb8415",
        "outputId": "70bce8ec-99ed-465a-ba9f-abc8f3773286"
      },
      "outputs": [
        {
          "output_type": "execute_result",
          "data": {
            "text/plain": [
              "<matplotlib.image.AxesImage at 0x7b97a4175480>"
            ]
          },
          "metadata": {},
          "execution_count": 14
        },
        {
          "output_type": "display_data",
          "data": {
            "text/plain": [
              "<Figure size 640x480 with 1 Axes>"
            ],
            "image/png": "[encoded data removed]"
          },
          "metadata": {}
        }
      ],
      "source": [
        "plt.imshow(train_images[54],cmap='gray')"
      ]
    },
    {
      "cell_type": "code",
      "execution_count": 15,
      "id": "d82136bc-f156-453e-ad02-4d1ca591a29c",
      "metadata": {
        "colab": {
          "base_uri": "https://localhost:8080/",
          "height": 0
        },
        "id": "d82136bc-f156-453e-ad02-4d1ca591a29c",
        "outputId": "e9b1f45f-d0af-4843-f126-8fa6bd23b0f2"
      },
      "outputs": [
        {
          "output_type": "execute_result",
          "data": {
            "text/plain": [
              "9"
            ]
          },
          "metadata": {},
          "execution_count": 15
        }
      ],
      "source": [
        "train_labels[54]"
      ]
    },
    {
      "cell_type": "code",
      "execution_count": 16,
      "id": "8ca6e582-785f-406a-bb0b-0f8318f085b6",
      "metadata": {
        "colab": {
          "base_uri": "https://localhost:8080/",
          "height": 69
        },
        "id": "8ca6e582-785f-406a-bb0b-0f8318f085b6",
        "outputId": "3372cd04-93ee-4956-a394-5086e1138212"
      },
      "outputs": [
        {
          "output_type": "execute_result",
          "data": {
            "text/plain": [
              "array([[  0,   0,   0,   0,   0,   0,   0,   0,   0,   0,   0,   0,   0,\n",
              "          0,   0,   0,   0,   0,   0,   0,   0,   0,   0,   0,   0,   0,\n",
              "          0,   0],\n",
              "       [  0,   0,   0,   0,   0,   0,   0,   0,   0,   0,   0,   0,   0,\n",
              "          0,   0,   0,   0,   0,   0,   0,   0,   0,   0,   0,   0,   0,\n",
              "          0,   0],\n",
              "       [  0,   0,   0,   0,   0,   0,   0,   0,   0,   0,   0,   0,   0,\n",
              "          0,   0,   0,   0,   0,   0,   0,   0,   0,   0,   0,   0,   0,\n",
              "          0,   0],\n",
              "       [  0,   0,   0,   0,   0,   0,   0,   0,   0,   0,   0,   0,   0,\n",
              "          0,   0,   0,   0,   0,   0,   0,   0,   0,   0,   0,   0,   0,\n",
              "          0,   0],\n",
              "       [  0,   0,   0,   0,   0,   0,   0,   0,   0,   0,   0,   0,   0,\n",
              "          0,   0,   0,   0,   0,   0,   0,   0,   0,   0,   0,   0,   0,\n",
              "          0,   0],\n",
              "       [  0,   0,   0,   0,   0,   0,   0,   0,   0,   0,   0,   0,   0,\n",
              "          0,   0,   0,   0,   0,   0,   0,   0,   0,   0,   0,   0,   0,\n",
              "          0,   0],\n",
              "       [  0,   0,   0,   0,   0,   0,   0,   0,   0,   0,   0,   0,   0,\n",
              "          0,   0,   0,   0,   0,   0,   0,   0,   0,   0,   0,   0,   0,\n",
              "          0,   0],\n",
              "       [  0,   0,   0,   0,   0,   0,   0,   0,   0,  49, 125, 235, 255,\n",
              "        254, 122,   0,   0,   0,   0,   0,  13, 134, 180,  57,   0,   0,\n",
              "          0,   0],\n",
              "       [  0,   0,   0,   0,   0,   0,   0,   0, 163, 250, 253, 253, 253,\n",
              "        253, 252,  63,   0,   0,   0,  16, 199, 253, 253, 117,   0,   0,\n",
              "          0,   0],\n",
              "       [  0,   0,   0,   0,   0,   0,  52, 168, 252, 253, 213,  32,  12,\n",
              "         49, 109,   3,   0,   0,   0, 157, 253, 253, 183,   6,   0,   0,\n",
              "          0,   0],\n",
              "       [  0,   0,   0,   0,   0,   0, 171, 253, 103,  19,  12,   0,   0,\n",
              "          0,   0,   0,   0,   0,  91, 247, 253, 235,   8,   0,   0,   0,\n",
              "          0,   0],\n",
              "       [  0,   0,   0,   0,   0,   0, 248, 253,  19,   0,   0,   0,   0,\n",
              "          0,   0,   0,  21, 189, 245, 253, 243,  77,   0,   0,   0,   0,\n",
              "          0,   0],\n",
              "       [  0,   0,   0,   0,   0,   0, 201, 253, 104,   9,   0,   0,   0,\n",
              "          0,  71, 122, 228, 253, 253, 253, 113,   0,   0,   0,   0,   0,\n",
              "          0,   0],\n",
              "       [  0,   0,   0,   0,   0,   0,  18, 199, 253, 219, 215, 215, 215,\n",
              "        215, 245, 253, 253, 253, 253, 182,  15,   0,   0,   0,   0,   0,\n",
              "          0,   0],\n",
              "       [  0,   0,   0,   0,   0,   0,   0,  20, 165, 205, 253, 253, 253,\n",
              "        191, 175, 193, 253, 253, 221,  16,   0,   0,   0,   0,   0,   0,\n",
              "          0,   0],\n",
              "       [  0,   0,   0,   0,   0,   0,   0,   0,   0,  20,  51,  51,  51,\n",
              "         11,   0,  59, 253, 253, 110,   0,   0,   0,   0,   0,   0,   0,\n",
              "          0,   0],\n",
              "       [  0,   0,   0,   0,   0,   0,   0,   0,   0,   0,   0,   0,   0,\n",
              "          0,   0,  93, 253, 218,  19,   0,   0,   0,   0,   0,   0,   0,\n",
              "          0,   0],\n",
              "       [  0,   0,   0,   0,   0,   0,   0,   0,   0,   0,   0,   0,   0,\n",
              "          0,  80, 237, 253, 111,   0,   0,   0,   0,   0,   0,   0,   0,\n",
              "          0,   0],\n",
              "       [  0,   0,   0,   0,   0,   0,   0,   0,   0,   0,   0,   0,   0,\n",
              "          0, 196, 253, 215,  22,   0,   0,   0,   0,   0,   0,   0,   0,\n",
              "          0,   0],\n",
              "       [  0,   0,   0,   0,   0,   0,   0,   0,   0,   0,   0,   0,   0,\n",
              "         13, 206, 243,  98,   0,   0,   0,   0,   0,   0,   0,   0,   0,\n",
              "          0,   0],\n",
              "       [  0,   0,   0,   0,   0,   0,   0,   0,   0,   0,   0,   0,   0,\n",
              "         93, 253, 194,   0,   0,   0,   0,   0,   0,   0,   0,   0,   0,\n",
              "          0,   0],\n",
              "       [  0,   0,   0,   0,   0,   0,   0,   0,   0,   0,   0,   0,  51,\n",
              "        235, 253, 111,   0,   0,   0,   0,   0,   0,   0,   0,   0,   0,\n",
              "          0,   0],\n",
              "       [  0,   0,   0,   0,   0,   0,   0,   0,   0,   0,   0,   0,  79,\n",
              "        253, 246,  58,   0,   0,   0,   0,   0,   0,   0,   0,   0,   0,\n",
              "          0,   0],\n",
              "       [  0,   0,   0,   0,   0,   0,   0,   0,   0,   0,   0,   0, 155,\n",
              "        253, 178,   0,   0,   0,   0,   0,   0,   0,   0,   0,   0,   0,\n",
              "          0,   0],\n",
              "       [  0,   0,   0,   0,   0,   0,   0,   0,   0,   0,   0,   0, 135,\n",
              "        253,  68,   4,   0,   0,   0,   0,   0,   0,   0,   0,   0,   0,\n",
              "          0,   0],\n",
              "       [  0,   0,   0,   0,   0,   0,   0,   0,   0,   0,   0,   0,  79,\n",
              "        253, 253, 131,   0,   0,   0,   0,   0,   0,   0,   0,   0,   0,\n",
              "          0,   0],\n",
              "       [  0,   0,   0,   0,   0,   0,   0,   0,   0,   0,   0,   0,  39,\n",
              "        159, 152,  32,   0,   0,   0,   0,   0,   0,   0,   0,   0,   0,\n",
              "          0,   0],\n",
              "       [  0,   0,   0,   0,   0,   0,   0,   0,   0,   0,   0,   0,   0,\n",
              "          0,   0,   0,   0,   0,   0,   0,   0,   0,   0,   0,   0,   0,\n",
              "          0,   0]], dtype=uint8)"
            ],
            "text/html": [
              "<style>\n",
              "      .ndarray_repr .ndarray_raw_data {\n",
              "        display: none;\n",
              "      }\n",
              "      .ndarray_repr.show_array .ndarray_raw_data {\n",
              "        display: block;\n",
              "      }\n",
              "      .ndarray_repr.show_array .ndarray_image_preview {\n",
              "        display: none;\n",
              "      }\n",
              "      </style>\n",
              "      <div id=\"id-71bd3ff9-dd7f-4c6c-b60f-06c9b22e74be\" class=\"ndarray_repr\"><pre>ndarray (28, 28) <button style=\"padding: 0 2px;\">show data</button></pre><img src=\"data:image/png;base64,iVBORw0KGgoAAAANSUhEUgAAABwAAAAcCAAAAABXZoBIAAAA9klEQVR4nGNgGIbAsPb1/39VDAwMDAy8bVssUeQW//r79+/fP/YMDAwCx//+LUWSMlnx5+9VBR7DXGYGBoa5f/9uZ0OSXP03XZgHyo7+/vc1B7KhP/4KQ1mie7/+/eyLYuPJvxmcDAwMDO5VT/7+/VuI6lSh439vX79+/frXv3///t3Gj+YRkaVn//79u3/9wb9/7wpg+lPE2NiYm8H67988rMHAwMDAEPv3ljAuuYC3f/Nxajzy97oYgseEIsfL9a37FW4bD+E01Pg1qo0oxsoI/TyNU+fsv5tQ+Cg63zBMYsGp0//v32ZkPorKG4t+zsWpEx0AADUnXUEwaybFAAAAAElFTkSuQmCC\" class=\"ndarray_image_preview\" /><pre class=\"ndarray_raw_data\">array([[  0,   0,   0,   0,   0,   0,   0,   0,   0,   0,   0,   0,   0,\n",
              "          0,   0,   0,   0,   0,   0,   0,   0,   0,   0,   0,   0,   0,\n",
              "          0,   0],\n",
              "       [  0,   0,   0,   0,   0,   0,   0,   0,   0,   0,   0,   0,   0,\n",
              "          0,   0,   0,   0,   0,   0,   0,   0,   0,   0,   0,   0,   0,\n",
              "          0,   0],\n",
              "       [  0,   0,   0,   0,   0,   0,   0,   0,   0,   0,   0,   0,   0,\n",
              "          0,   0,   0,   0,   0,   0,   0,   0,   0,   0,   0,   0,   0,\n",
              "          0,   0],\n",
              "       [  0,   0,   0,   0,   0,   0,   0,   0,   0,   0,   0,   0,   0,\n",
              "          0,   0,   0,   0,   0,   0,   0,   0,   0,   0,   0,   0,   0,\n",
              "          0,   0],\n",
              "       [  0,   0,   0,   0,   0,   0,   0,   0,   0,   0,   0,   0,   0,\n",
              "          0,   0,   0,   0,   0,   0,   0,   0,   0,   0,   0,   0,   0,\n",
              "          0,   0],\n",
              "       [  0,   0,   0,   0,   0,   0,   0,   0,   0,   0,   0,   0,   0,\n",
              "          0,   0,   0,   0,   0,   0,   0,   0,   0,   0,   0,   0,   0,\n",
              "          0,   0],\n",
              "       [  0,   0,   0,   0,   0,   0,   0,   0,   0,   0,   0,   0,   0,\n",
              "          0,   0,   0,   0,   0,   0,   0,   0,   0,   0,   0,   0,   0,\n",
              "          0,   0],\n",
              "       [  0,   0,   0,   0,   0,   0,   0,   0,   0,  49, 125, 235, 255,\n",
              "        254, 122,   0,   0,   0,   0,   0,  13, 134, 180,  57,   0,   0,\n",
              "          0,   0],\n",
              "       [  0,   0,   0,   0,   0,   0,   0,   0, 163, 250, 253, 253, 253,\n",
              "        253, 252,  63,   0,   0,   0,  16, 199, 253, 253, 117,   0,   0,\n",
              "          0,   0],\n",
              "       [  0,   0,   0,   0,   0,   0,  52, 168, 252, 253, 213,  32,  12,\n",
              "         49, 109,   3,   0,   0,   0, 157, 253, 253, 183,   6,   0,   0,\n",
              "          0,   0],\n",
              "       [  0,   0,   0,   0,   0,   0, 171, 253, 103,  19,  12,   0,   0,\n",
              "          0,   0,   0,   0,   0,  91, 247, 253, 235,   8,   0,   0,   0,\n",
              "          0,   0],\n",
              "       [  0,   0,   0,   0,   0,   0, 248, 253,  19,   0,   0,   0,   0,\n",
              "          0,   0,   0,  21, 189, 245, 253, 243,  77,   0,   0,   0,   0,\n",
              "          0,   0],\n",
              "       [  0,   0,   0,   0,   0,   0, 201, 253, 104,   9,   0,   0,   0,\n",
              "          0,  71, 122, 228, 253, 253, 253, 113,   0,   0,   0,   0,   0,\n",
              "          0,   0],\n",
              "       [  0,   0,   0,   0,   0,   0,  18, 199, 253, 219, 215, 215, 215,\n",
              "        215, 245, 253, 253, 253, 253, 182,  15,   0,   0,   0,   0,   0,\n",
              "          0,   0],\n",
              "       [  0,   0,   0,   0,   0,   0,   0,  20, 165, 205, 253, 253, 253,\n",
              "        191, 175, 193, 253, 253, 221,  16,   0,   0,   0,   0,   0,   0,\n",
              "          0,   0],\n",
              "       [  0,   0,   0,   0,   0,   0,   0,   0,   0,  20,  51,  51,  51,\n",
              "         11,   0,  59, 253, 253, 110,   0,   0,   0,   0,   0,   0,   0,\n",
              "          0,   0],\n",
              "       [  0,   0,   0,   0,   0,   0,   0,   0,   0,   0,   0,   0,   0,\n",
              "          0,   0,  93, 253, 218,  19,   0,   0,   0,   0,   0,   0,   0,\n",
              "          0,   0],\n",
              "       [  0,   0,   0,   0,   0,   0,   0,   0,   0,   0,   0,   0,   0,\n",
              "          0,  80, 237, 253, 111,   0,   0,   0,   0,   0,   0,   0,   0,\n",
              "          0,   0],\n",
              "       [  0,   0,   0,   0,   0,   0,   0,   0,   0,   0,   0,   0,   0,\n",
              "          0, 196, 253, 215,  22,   0,   0,   0,   0,   0,   0,   0,   0,\n",
              "          0,   0],\n",
              "       [  0,   0,   0,   0,   0,   0,   0,   0,   0,   0,   0,   0,   0,\n",
              "         13, 206, 243,  98,   0,   0,   0,   0,   0,   0,   0,   0,   0,\n",
              "          0,   0],\n",
              "       [  0,   0,   0,   0,   0,   0,   0,   0,   0,   0,   0,   0,   0,\n",
              "         93, 253, 194,   0,   0,   0,   0,   0,   0,   0,   0,   0,   0,\n",
              "          0,   0],\n",
              "       [  0,   0,   0,   0,   0,   0,   0,   0,   0,   0,   0,   0,  51,\n",
              "        235, 253, 111,   0,   0,   0,   0,   0,   0,   0,   0,   0,   0,\n",
              "          0,   0],\n",
              "       [  0,   0,   0,   0,   0,   0,   0,   0,   0,   0,   0,   0,  79,\n",
              "        253, 246,  58,   0,   0,   0,   0,   0,   0,   0,   0,   0,   0,\n",
              "          0,   0],\n",
              "       [  0,   0,   0,   0,   0,   0,   0,   0,   0,   0,   0,   0, 155,\n",
              "        253, 178,   0,   0,   0,   0,   0,   0,   0,   0,   0,   0,   0,\n",
              "          0,   0],\n",
              "       [  0,   0,   0,   0,   0,   0,   0,   0,   0,   0,   0,   0, 135,\n",
              "        253,  68,   4,   0,   0,   0,   0,   0,   0,   0,   0,   0,   0,\n",
              "          0,   0],\n",
              "       [  0,   0,   0,   0,   0,   0,   0,   0,   0,   0,   0,   0,  79,\n",
              "        253, 253, 131,   0,   0,   0,   0,   0,   0,   0,   0,   0,   0,\n",
              "          0,   0],\n",
              "       [  0,   0,   0,   0,   0,   0,   0,   0,   0,   0,   0,   0,  39,\n",
              "        159, 152,  32,   0,   0,   0,   0,   0,   0,   0,   0,   0,   0,\n",
              "          0,   0],\n",
              "       [  0,   0,   0,   0,   0,   0,   0,   0,   0,   0,   0,   0,   0,\n",
              "          0,   0,   0,   0,   0,   0,   0,   0,   0,   0,   0,   0,   0,\n",
              "          0,   0]], dtype=uint8)</pre></div><script>\n",
              "      (() => {\n",
              "      const titles = ['show data', 'hide data'];\n",
              "      let index = 0\n",
              "      document.querySelector('#id-71bd3ff9-dd7f-4c6c-b60f-06c9b22e74be button').onclick = (e) => {\n",
              "        document.querySelector('#id-71bd3ff9-dd7f-4c6c-b60f-06c9b22e74be').classList.toggle('show_array');\n",
              "        index = (++index) % 2;\n",
              "        document.querySelector('#id-71bd3ff9-dd7f-4c6c-b60f-06c9b22e74be button').textContent = titles[index];\n",
              "        e.preventDefault();\n",
              "        e.stopPropagation();\n",
              "      }\n",
              "      })();\n",
              "    </script>"
            ]
          },
          "metadata": {},
          "execution_count": 16
        }
      ],
      "source": [
        "train_images[54]"
      ]
    },
    {
      "cell_type": "code",
      "execution_count": 17,
      "id": "afae9923-2afa-4455-8ba4-f96f4b1da5b6",
      "metadata": {
        "id": "afae9923-2afa-4455-8ba4-f96f4b1da5b6"
      },
      "outputs": [],
      "source": [
        "# normalize data"
      ]
    },
    {
      "cell_type": "code",
      "execution_count": 18,
      "id": "d31fcf44-e5ee-4a3f-ad99-24b4679b6d7a",
      "metadata": {
        "id": "d31fcf44-e5ee-4a3f-ad99-24b4679b6d7a"
      },
      "outputs": [],
      "source": [
        "#fotolar hep 0-255 arasında old için normalizede xmax 255 xmin 0 dir\n",
        "#x-xmin/ xmax- xmin old için x/255 oluyor hepsi için normalize etmek"
      ]
    },
    {
      "cell_type": "code",
      "execution_count": 19,
      "id": "6c29b568-c605-4865-9253-c648fd026696",
      "metadata": {
        "id": "6c29b568-c605-4865-9253-c648fd026696"
      },
      "outputs": [],
      "source": [
        "train_images=train_images/255.0\n",
        "test_images=test_images/255.0"
      ]
    },
    {
      "cell_type": "code",
      "execution_count": 20,
      "id": "07a21751-5b67-46b5-94bd-a6dafbdc9cbf",
      "metadata": {
        "colab": {
          "base_uri": "https://localhost:8080/",
          "height": 447
        },
        "id": "07a21751-5b67-46b5-94bd-a6dafbdc9cbf",
        "outputId": "ed8d2522-4116-4a53-c83e-62fcb0f2c080"
      },
      "outputs": [
        {
          "output_type": "execute_result",
          "data": {
            "text/plain": [
              "<matplotlib.image.AxesImage at 0x7b97a3fee380>"
            ]
          },
          "metadata": {},
          "execution_count": 20
        },
        {
          "output_type": "display_data",
          "data": {
            "text/plain": [
              "<Figure size 640x480 with 1 Axes>"
            ],
            "image/png": "[encoded data removed]"
          },
          "metadata": {}
        }
      ],
      "source": [
        "plt.imshow(train_images[54],cmap='gray') #normalize edince data değişmiyo yani aynı data normalize oluyo"
      ]
    },
    {
      "cell_type": "code",
      "execution_count": 21,
      "id": "fb91aca9-1b4f-42ca-8553-9d6c21268a2b",
      "metadata": {
        "id": "fb91aca9-1b4f-42ca-8553-9d6c21268a2b"
      },
      "outputs": [],
      "source": [
        "# Convolutional Neural Networks - CNNs - Image Classification Resim siniflandirma modeli"
      ]
    },
    {
      "cell_type": "code",
      "execution_count": 22,
      "id": "b445e5b8-ba00-4eb3-b040-0d810e8fcfcf",
      "metadata": {
        "id": "b445e5b8-ba00-4eb3-b040-0d810e8fcfcf"
      },
      "outputs": [],
      "source": [
        "from tensorflow.keras.models import Sequential\n",
        "from tensorflow.keras.layers import Dense, Conv2D, InputLayer, Reshape, MaxPooling2D, Flatten, Dropout, BatchNormalization\n",
        "#conv2d cnn demek\n",
        "#maxplooling2d aşağıdaki foto gibi bir filtre"
      ]
    },
    {
      "cell_type": "markdown",
      "id": "613870b5-8469-4c22-b7e6-89af9b92029e",
      "metadata": {
        "id": "613870b5-8469-4c22-b7e6-89af9b92029e"
      },
      "source": [
        "![image.png](attachment:fb695bff-0038-4b5a-9ac7-c19ad85c0ff3.png)"
      ]
    },
    {
      "cell_type": "code",
      "execution_count": 23,
      "id": "c876859c-ed37-4509-ab43-26c29ee4ea85",
      "metadata": {
        "colab": {
          "base_uri": "https://localhost:8080/",
          "height": 0
        },
        "id": "c876859c-ed37-4509-ab43-26c29ee4ea85",
        "outputId": "30bbfc7f-288d-4ab9-9838-2ae4ac1c4b96"
      },
      "outputs": [
        {
          "output_type": "stream",
          "name": "stderr",
          "text": [
            "/usr/local/lib/python3.10/dist-packages/keras/src/layers/core/input_layer.py:26: UserWarning: Argument `input_shape` is deprecated. Use `shape` instead.\n",
            "  warnings.warn(\n"
          ]
        }
      ],
      "source": [
        "model=Sequential()\n",
        "model.add(InputLayer(input_shape=(28,28))) #bizim görüntünün pixeli\n",
        "model.add(Reshape(target_shape=(28,28,1))) #bizim görüntünün pixeli + o pixeldeki değer\n",
        "model.add(Conv2D(filters=12,kernel_size=(3,3),activation='relu'))\n",
        "model.add(MaxPooling2D(pool_size=(2,2)))\n",
        "model.add(Flatten()) #tüm resmi tek bir dizi haline getirir\n",
        "model.add(BatchNormalization()) #normalize ediyo. diğer layera geçince ilk normalize bozuluyo, batchle sürekli tekrar gerektikçe normalize ediyo\n",
        "#savaşta ara verince ölenleri almak, yaralıları sarmak, ölen komutan yerine yenisini koymak gibi\n",
        "model.add(Dense(60))\n",
        "model.add(Dropout(.25)) #verinin 0.25ini atıyor, overfitting olmasın diye\n",
        "model.add(Dense(10)) # 10 fakli cevap classification 0-9 a kadar olan rakamlar\n",
        "model.compile(optimizer='adam', loss=tf.keras.losses.SparseCategoricalCrossentropy(from_logits=True),metrics=['accuracy'])\n",
        "\n",
        "#digerleri de boyle yapılıyor\n",
        "#model.add(LSTM())\n",
        "#model.add(GAN())"
      ]
    },
    {
      "cell_type": "markdown",
      "id": "4c444ccf-aa23-405c-b429-11234a34532d",
      "metadata": {
        "id": "4c444ccf-aa23-405c-b429-11234a34532d"
      },
      "source": [
        "![image.png](attachment:46ad1188-9017-4160-afb7-f73b15325701.png)"
      ]
    },
    {
      "cell_type": "code",
      "execution_count": 24,
      "id": "f24153a6-d894-4e36-925f-e250471e1036",
      "metadata": {
        "colab": {
          "base_uri": "https://localhost:8080/",
          "height": 0
        },
        "id": "f24153a6-d894-4e36-925f-e250471e1036",
        "outputId": "2680bc79-c25b-46c7-d05c-7c9fce6ec26d"
      },
      "outputs": [
        {
          "output_type": "stream",
          "name": "stdout",
          "text": [
            "Epoch 1/10\n",
            "\u001b[1m1688/1688\u001b[0m \u001b[32m━━━━━━━━━━━━━━━━━━━━\u001b[0m\u001b[37m\u001b[0m \u001b[1m17s\u001b[0m 9ms/step - accuracy: 0.8498 - loss: 0.5440 - val_accuracy: 0.9632 - val_loss: 0.1352\n",
            "Epoch 2/10\n",
            "\u001b[1m1688/1688\u001b[0m \u001b[32m━━━━━━━━━━━━━━━━━━━━\u001b[0m\u001b[37m\u001b[0m \u001b[1m15s\u001b[0m 9ms/step - accuracy: 0.9587 - loss: 0.1458 - val_accuracy: 0.9715 - val_loss: 0.1009\n",
            "Epoch 3/10\n",
            "\u001b[1m1688/1688\u001b[0m \u001b[32m━━━━━━━━━━━━━━━━━━━━\u001b[0m\u001b[37m\u001b[0m \u001b[1m18s\u001b[0m 11ms/step - accuracy: 0.9728 - loss: 0.0964 - val_accuracy: 0.9807 - val_loss: 0.0760\n",
            "Epoch 4/10\n",
            "\u001b[1m1688/1688\u001b[0m \u001b[32m━━━━━━━━━━━━━━━━━━━━\u001b[0m\u001b[37m\u001b[0m \u001b[1m19s\u001b[0m 10ms/step - accuracy: 0.9771 - loss: 0.0778 - val_accuracy: 0.9827 - val_loss: 0.0674\n",
            "Epoch 5/10\n",
            "\u001b[1m1688/1688\u001b[0m \u001b[32m━━━━━━━━━━━━━━━━━━━━\u001b[0m\u001b[37m\u001b[0m \u001b[1m15s\u001b[0m 9ms/step - accuracy: 0.9813 - loss: 0.0642 - val_accuracy: 0.9813 - val_loss: 0.0689\n",
            "Epoch 6/10\n",
            "\u001b[1m1688/1688\u001b[0m \u001b[32m━━━━━━━━━━━━━━━━━━━━\u001b[0m\u001b[37m\u001b[0m \u001b[1m30s\u001b[0m 14ms/step - accuracy: 0.9837 - loss: 0.0541 - val_accuracy: 0.9835 - val_loss: 0.0673\n",
            "Epoch 7/10\n",
            "\u001b[1m1688/1688\u001b[0m \u001b[32m━━━━━━━━━━━━━━━━━━━━\u001b[0m\u001b[37m\u001b[0m \u001b[1m26s\u001b[0m 15ms/step - accuracy: 0.9854 - loss: 0.0488 - val_accuracy: 0.9833 - val_loss: 0.0639\n",
            "Epoch 8/10\n",
            "\u001b[1m1688/1688\u001b[0m \u001b[32m━━━━━━━━━━━━━━━━━━━━\u001b[0m\u001b[37m\u001b[0m \u001b[1m31s\u001b[0m 10ms/step - accuracy: 0.9866 - loss: 0.0429 - val_accuracy: 0.9832 - val_loss: 0.0686\n",
            "Epoch 9/10\n",
            "\u001b[1m1688/1688\u001b[0m \u001b[32m━━━━━━━━━━━━━━━━━━━━\u001b[0m\u001b[37m\u001b[0m \u001b[1m17s\u001b[0m 10ms/step - accuracy: 0.9871 - loss: 0.0427 - val_accuracy: 0.9817 - val_loss: 0.0726\n",
            "Epoch 10/10\n",
            "\u001b[1m1688/1688\u001b[0m \u001b[32m━━━━━━━━━━━━━━━━━━━━\u001b[0m\u001b[37m\u001b[0m \u001b[1m16s\u001b[0m 9ms/step - accuracy: 0.9891 - loss: 0.0376 - val_accuracy: 0.9855 - val_loss: 0.0584\n"
          ]
        },
        {
          "output_type": "execute_result",
          "data": {
            "text/plain": [
              "<keras.src.callbacks.history.History at 0x7b97a69f49a0>"
            ]
          },
          "metadata": {},
          "execution_count": 24
        }
      ],
      "source": [
        "model.fit(train_images, train_labels, validation_split =.10, epochs=10)"
      ]
    },
    {
      "cell_type": "code",
      "source": [
        "#cnn, dnn konusunda muhteşem yapamadığı iş yok, accuracy acayip yüksek"
      ],
      "metadata": {
        "id": "d5c8rcl-7ekJ"
      },
      "id": "d5c8rcl-7ekJ",
      "execution_count": 25,
      "outputs": []
    },
    {
      "cell_type": "code",
      "source": [
        "loss, accuracy=model.evaluate(test_images,test_labels)\n",
        "#modeli öğrendi, testin de 0.97 sini doğru tahmin ediyo"
      ],
      "metadata": {
        "colab": {
          "base_uri": "https://localhost:8080/",
          "height": 0
        },
        "id": "2-3_XIfK71j9",
        "outputId": "8c2d3713-2332-40a6-cc85-a04e04b2069f"
      },
      "id": "2-3_XIfK71j9",
      "execution_count": 26,
      "outputs": [
        {
          "output_type": "stream",
          "name": "stdout",
          "text": [
            "\u001b[1m313/313\u001b[0m \u001b[32m━━━━━━━━━━━━━━━━━━━━\u001b[0m\u001b[37m\u001b[0m \u001b[1m3s\u001b[0m 8ms/step - accuracy: 0.9771 - loss: 0.0736\n"
          ]
        }
      ]
    },
    {
      "cell_type": "code",
      "source": [
        "accuracy"
      ],
      "metadata": {
        "colab": {
          "base_uri": "https://localhost:8080/",
          "height": 0
        },
        "id": "mWkTjBjo8Jyp",
        "outputId": "59ece858-e7e2-4bb8-e72e-a620363ebc04"
      },
      "id": "mWkTjBjo8Jyp",
      "execution_count": 27,
      "outputs": [
        {
          "output_type": "execute_result",
          "data": {
            "text/plain": [
              "0.9804999828338623"
            ]
          },
          "metadata": {},
          "execution_count": 27
        }
      ]
    },
    {
      "cell_type": "code",
      "source": [
        "model.save('benimelyazmasitaniyanmodelim.h5')"
      ],
      "metadata": {
        "id": "9DIOWSJt8bV8"
      },
      "id": "9DIOWSJt8bV8",
      "execution_count": 30,
      "outputs": []
    },
    {
      "cell_type": "code",
      "source": [
        "#website creator - streamlit"
      ],
      "metadata": {
        "id": "_-0Soq_l8e7X"
      },
      "id": "_-0Soq_l8e7X",
      "execution_count": null,
      "outputs": []
    },
    {
      "cell_type": "markdown",
      "source": [
        "# Deep Learning de Basari oranini arttirma teknikleri\n",
        "1- Layers sayisini arttir  \n",
        "\n",
        "model.add(Dense(60)) vs ekleyebilirsin son layerdan öncesine\n",
        "\n",
        "\n",
        "2- Neuron Sayisini arttir\n",
        "\n",
        "model.add(Dense(60)) deki 60 sayısı nörondur, o sayıları arttırabilirsin\n",
        "\n",
        "*son layerdaki nöron kaç classification varsa o sayı olacak\n",
        "\n",
        "\n",
        "3- Dropout layerı ekle\n",
        "\n",
        "Overfittingi engeller daha iyi ogrenmeyi saglar.\n",
        "dropout'u import etmen gerek\n",
        "\n",
        "4- batch normalize et\n",
        "\n",
        "normalize ediyo. diğer layera geçince ilk normalize bozuluyo, batchle sürekli tekrar gerektikçe normalize ediyo\n",
        "\n",
        "savaşta ara verince ölenleri almak, yaralıları sarmak, ölen komutan yerine yenisini koymak gibi\n",
        "\n",
        "BatchNormalization'ı import etmen gerek"
      ],
      "metadata": {
        "id": "VPdEwXU1E_rG"
      },
      "id": "VPdEwXU1E_rG"
    }
  ],
  "metadata": {
    "kernelspec": {
      "display_name": "Python 3 (ipykernel)",
      "language": "python",
      "name": "python3"
    },
    "language_info": {
      "codemirror_mode": {
        "name": "ipython",
        "version": 3
      },
      "file_extension": ".py",
      "mimetype": "text/x-python",
      "name": "python",
      "nbconvert_exporter": "python",
      "pygments_lexer": "ipython3",
      "version": "3.10.12"
    },
    "colab": {
      "provenance": []
    }
  },
  "nbformat": 4,
  "nbformat_minor": 5
}