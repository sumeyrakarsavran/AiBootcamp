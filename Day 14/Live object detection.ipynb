{
 "cells": [
  {
   "cell_type": "code",
   "execution_count": 1,
   "id": "ed2bdf93-fd09-48f7-a4fa-ed373bec4bd4",
   "metadata": {},
   "outputs": [],
   "source": [
    "#pip install opencv-python"
   ]
  },
  {
   "cell_type": "code",
   "execution_count": 3,
   "id": "3648aba7-8b1d-4be8-b11e-60364bd9ee26",
   "metadata": {},
   "outputs": [],
   "source": [
    "import cvlib as cv\n",
    "from cvlib. object_detection import draw_bbox# YOLO\n",
    "import cv2\n",
    "\n",
    "webcam=cv2.VideoCapture('https://192.168.1.117:8080/video') #ip webcam #0 webcamera\n",
    "\n",
    "while webcam.isOpened():\n",
    "    ret, frame=webcam.read()\n",
    "    \n",
    "    bbox, label, conf=cv.detect_common_objects(frame)\n",
    "    \n",
    "    out=draw_bbox(frame, bbox, label, conf)\n",
    "    \n",
    "    cv2.imshow('Gercek zamanli nesne tanima', out)\n",
    "    \n",
    "    if cv2.waitKey(1) & 0XFF == ord('q'):\n",
    "        break\n",
    "\n",
    "webcam.release()\n",
    "cv2.destroyAllWindows()"
   ]
  },
  {
   "cell_type": "code",
   "execution_count": null,
   "id": "0ed0c6f5-6ae1-4e6c-90d2-9e4b6bb2e9c8",
   "metadata": {},
   "outputs": [],
   "source": []
  }
 ],
 "metadata": {
  "kernelspec": {
   "display_name": "Python 3 (ipykernel)",
   "language": "python",
   "name": "python3"
  },
  "language_info": {
   "codemirror_mode": {
    "name": "ipython",
    "version": 3
   },
   "file_extension": ".py",
   "mimetype": "text/x-python",
   "name": "python",
   "nbconvert_exporter": "python",
   "pygments_lexer": "ipython3",
   "version": "3.10.12"
  }
 },
 "nbformat": 4,
 "nbformat_minor": 5
}
