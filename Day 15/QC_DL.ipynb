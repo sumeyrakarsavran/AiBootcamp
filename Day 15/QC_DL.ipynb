{
  "nbformat": 4,
  "nbformat_minor": 0,
  "metadata": {
    "colab": {
      "provenance": []
    },
    "kernelspec": {
      "name": "python3",
      "display_name": "Python 3"
    },
    "language_info": {
      "name": "python"
    }
  },
  "cells": [
    {
      "cell_type": "markdown",
      "source": [
        "Quantum bilgisayarlarda derin öğrenme kodları farklı\n",
        "\n",
        "Quantum bilgisayarlarda örnek bir derin öğrenmesi kodu"
      ],
      "metadata": {
        "id": "eyy3Nw5f43tw"
      }
    },
    {
      "cell_type": "code",
      "execution_count": null,
      "metadata": {
        "id": "EFfDL5nH4WGW"
      },
      "outputs": [],
      "source": [
        "import numpy as np\n",
        "from qiskit import QuantumCircuit, transpile, Aer, assemble\n",
        "from qiskit.visualization import plot_bloch_multivector, plot_histogram\n",
        "from qiskit.extensions import RX, RY, RZ\n",
        "\n",
        "# Define the quantum circuit\n",
        "def create_circuit(params):\n",
        "  circuit = QuantumCircuit(1, 1)\n",
        "  circuit.h(0)\n",
        "  circuit.ry(params[0], 0)\n",
        "  circuit.rx(params[1], 0)\n",
        "  circuit.rz(params[2], 0)\n",
        "  circuit.measure(0, 0)\n",
        "  return circuit\n",
        "\n",
        "# Generate random initial parameters\n",
        "params = np.random.rand(3)\n",
        "\n",
        "# Create the quantum circuit\n",
        "circuit = create_circuit(params)\n",
        "\n",
        "# Transpile the circuit for the Aer simulator\n",
        "simulator = Aer.get_backend('aer_simulator')\n",
        "transpiled_circuit = transpile(circuit, simulator)\n",
        "\n",
        "# Assemble the circuit into a runnable form\n",
        "qobj = assemble(transpiled_circuit)\n",
        "\n",
        "# Run the circuit on the Aer simulator\n",
        "sim_result = simulator.run(qobj).result()\n",
        "\n",
        "# Get the counts of the different measurement outcomes\n",
        "counts = sim_result.get_counts()\n",
        "\n",
        "# Plot the histogram of the measurement outcomes\n",
        "plot_histogram(counts)\n",
        "\n"
      ]
    }
  ]
}