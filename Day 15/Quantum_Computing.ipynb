{
  "cells": [
    {
      "cell_type": "markdown",
      "id": "202d8b1d",
      "metadata": {},
      "source": [
        "yazdığımız kod quantum bilgisayarda çalışıp bizim bilgisayarımıza gelecek"
      ]
    },
    {
      "cell_type": "markdown",
      "id": "eb29318e",
      "metadata": {},
      "source": [
        "not: ibm quantum lab artık yok"
      ]
    },
    {
      "cell_type": "raw",
      "id": "27b46e4b-669f-413a-9694-7086b63908b6",
      "metadata": {
        "id": "27b46e4b-669f-413a-9694-7086b63908b6"
      },
      "source": [
        "1-Entanglement - Dolaniklik\n",
        "2-Superposition - Ust uste binme ilkesi\n",
        "3-Teleportation -Isinlanma\n",
        "4-Quantum Tunneling\n",
        "5-Probability - Olasilik"
      ]
    },
    {
      "cell_type": "code",
      "execution_count": null,
      "id": "66ad86fd-ab92-490a-a38d-8e944243ff9b",
      "metadata": {
        "id": "66ad86fd-ab92-490a-a38d-8e944243ff9b"
      },
      "outputs": [],
      "source": [
        "import warnings\n",
        "warnings.filterwarnings('ignore')"
      ]
    },
    {
      "cell_type": "code",
      "execution_count": null,
      "id": "c514e95f-3153-4ca2-80e0-bc12cf40414f",
      "metadata": {
        "id": "c514e95f-3153-4ca2-80e0-bc12cf40414f"
      },
      "outputs": [],
      "source": [
        "#pip install qiskit"
      ]
    },
    {
      "cell_type": "code",
      "execution_count": 1,
      "id": "62e31211-8056-4a8b-b88c-a0aa7c5f215c",
      "metadata": {
        "id": "62e31211-8056-4a8b-b88c-a0aa7c5f215c"
      },
      "outputs": [],
      "source": [
        "#pip install qiskit-ibmq-provider"
      ]
    },
    {
      "cell_type": "code",
      "execution_count": null,
      "id": "492bbbeb-2fb4-4e3f-af41-f090b3d065fe",
      "metadata": {
        "id": "492bbbeb-2fb4-4e3f-af41-f090b3d065fe"
      },
      "outputs": [],
      "source": [
        "#pip install pylatexenc"
      ]
    },
    {
      "cell_type": "code",
      "execution_count": null,
      "id": "efed405e-2af3-4d8a-95ec-9173a4bd9679",
      "metadata": {
        "id": "efed405e-2af3-4d8a-95ec-9173a4bd9679"
      },
      "outputs": [],
      "source": [
        "#pip install qiskit-aer"
      ]
    },
    {
      "cell_type": "code",
      "execution_count": null,
      "id": "454a5191-8dad-42c8-8cab-8f741c31647d",
      "metadata": {
        "id": "454a5191-8dad-42c8-8cab-8f741c31647d"
      },
      "outputs": [],
      "source": [
        "#from qiskit import IBMQ"
      ]
    },
    {
      "cell_type": "code",
      "execution_count": null,
      "id": "89a72577-8b71-4db0-9b0b-75ba933795cb",
      "metadata": {
        "id": "89a72577-8b71-4db0-9b0b-75ba933795cb"
      },
      "outputs": [],
      "source": [
        "IBMQ.save_account('bc61a2283724820bc60790753c7a611a461aa59b6fe5e67425169b6c75e83a93cff4ccee95340761a7fd7a9504c317a645228d28e57e206d190a840bdac6eb0d')"
      ]
    },
    {
      "cell_type": "code",
      "execution_count": null,
      "id": "w3Q4yKnQzToN",
      "metadata": {
        "id": "w3Q4yKnQzToN"
      },
      "outputs": [],
      "source": [
        "from qiskit import*"
      ]
    },
    {
      "cell_type": "code",
      "execution_count": null,
      "id": "3pIxDNPozXWk",
      "metadata": {
        "id": "3pIxDNPozXWk"
      },
      "outputs": [],
      "source": [
        "qr=QuantumRegister(2)\n",
        "cr=ClassicalRegister(2)"
      ]
    },
    {
      "cell_type": "code",
      "execution_count": null,
      "id": "LOgfTsESzZ9t",
      "metadata": {
        "id": "LOgfTsESzZ9t"
      },
      "outputs": [],
      "source": [
        "circuit=QuantumCircuit(qr,cr)"
      ]
    },
    {
      "cell_type": "code",
      "execution_count": null,
      "id": "1-JrPTKpzaV0",
      "metadata": {
        "id": "1-JrPTKpzaV0"
      },
      "outputs": [],
      "source": [
        "#Hadamart Gate - Quantum dolaniklik yapmak için"
      ]
    },
    {
      "cell_type": "code",
      "execution_count": null,
      "id": "xUIgpheBzfXm",
      "metadata": {
        "id": "xUIgpheBzfXm"
      },
      "outputs": [],
      "source": [
        "circuit.h(qr[0])"
      ]
    },
    {
      "cell_type": "code",
      "execution_count": null,
      "id": "Xh39itoYzo7o",
      "metadata": {
        "id": "Xh39itoYzo7o"
      },
      "outputs": [],
      "source": [
        "circuit.draw(output='mpl')"
      ]
    },
    {
      "cell_type": "code",
      "execution_count": null,
      "id": "WYwEPoOLzqv2",
      "metadata": {
        "id": "WYwEPoOLzqv2"
      },
      "outputs": [],
      "source": [
        "#CNOT gate controlled X Gate"
      ]
    },
    {
      "cell_type": "code",
      "execution_count": null,
      "id": "XZAMHHByzwxg",
      "metadata": {
        "id": "XZAMHHByzwxg"
      },
      "outputs": [],
      "source": [
        "circuit.cx(qr[0],qr[1])"
      ]
    },
    {
      "cell_type": "code",
      "execution_count": null,
      "id": "j43CqhGczyiy",
      "metadata": {
        "id": "j43CqhGczyiy"
      },
      "outputs": [],
      "source": [
        "circuit.measure(qr,cr)"
      ]
    },
    {
      "cell_type": "code",
      "execution_count": null,
      "id": "fTpDxHhfz0vw",
      "metadata": {
        "id": "fTpDxHhfz0vw"
      },
      "outputs": [],
      "source": [
        "circuit.draw(output='mpl')"
      ]
    },
    {
      "cell_type": "code",
      "execution_count": null,
      "id": "70e20eiT14hp",
      "metadata": {
        "id": "70e20eiT14hp"
      },
      "outputs": [],
      "source": [
        "simulator=Aer.get_backend('qasm_simulator')"
      ]
    },
    {
      "cell_type": "code",
      "execution_count": null,
      "id": "YHa4VqhA2AlX",
      "metadata": {
        "id": "YHa4VqhA2AlX"
      },
      "outputs": [],
      "source": [
        "result=execute(circuit, backend=simulator).result()"
      ]
    },
    {
      "cell_type": "code",
      "execution_count": null,
      "id": "wBU5CJiV2CJo",
      "metadata": {
        "id": "wBU5CJiV2CJo"
      },
      "outputs": [],
      "source": [
        "from qiskit.tools.visualization import plot_histogram"
      ]
    },
    {
      "cell_type": "code",
      "execution_count": null,
      "id": "UpqvdUNO2FgM",
      "metadata": {
        "id": "UpqvdUNO2FgM"
      },
      "outputs": [],
      "source": [
        "plot_histogram(result.get_counts())"
      ]
    },
    {
      "cell_type": "code",
      "execution_count": null,
      "id": "M1Hoj0183nGa",
      "metadata": {
        "id": "M1Hoj0183nGa"
      },
      "outputs": [],
      "source": [
        "IBMQ.load_account()"
      ]
    },
    {
      "cell_type": "code",
      "execution_count": null,
      "id": "uKldQyXX26le",
      "metadata": {
        "id": "uKldQyXX26le"
      },
      "outputs": [],
      "source": [
        "provider=IBMQ.get_provider('ibm-q')"
      ]
    },
    {
      "cell_type": "code",
      "execution_count": null,
      "id": "RA86pnzS3Ljm",
      "metadata": {
        "id": "RA86pnzS3Ljm"
      },
      "outputs": [],
      "source": [
        "qcomp=provider.get_backend('ibm_kyoto')"
      ]
    },
    {
      "cell_type": "code",
      "execution_count": null,
      "id": "UJPdtUFM3MW5",
      "metadata": {
        "id": "UJPdtUFM3MW5"
      },
      "outputs": [],
      "source": [
        "job=execute(circuit,backend=qcomp)"
      ]
    },
    {
      "cell_type": "code",
      "execution_count": null,
      "id": "atJ-Bl9R3Nrf",
      "metadata": {
        "id": "atJ-Bl9R3Nrf"
      },
      "outputs": [],
      "source": [
        "from qiskit. tools.monitor import job_monitor"
      ]
    },
    {
      "cell_type": "code",
      "execution_count": null,
      "id": "SuBVGFes3Vdq",
      "metadata": {
        "id": "SuBVGFes3Vdq"
      },
      "outputs": [],
      "source": [
        "result=job.result()"
      ]
    },
    {
      "cell_type": "code",
      "execution_count": null,
      "id": "OMTp5huX3W44",
      "metadata": {
        "id": "OMTp5huX3W44"
      },
      "outputs": [],
      "source": [
        "plot_histogram(result.get_counts(circuit))"
      ]
    }
  ],
  "metadata": {
    "colab": {
      "provenance": []
    },
    "kernelspec": {
      "display_name": "Python 3 (ipykernel)",
      "language": "python",
      "name": "python3"
    },
    "language_info": {
      "codemirror_mode": {
        "name": "ipython",
        "version": 3
      },
      "file_extension": ".py",
      "mimetype": "text/x-python",
      "name": "python",
      "nbconvert_exporter": "python",
      "pygments_lexer": "ipython3",
      "version": "3.10.12"
    }
  },
  "nbformat": 4,
  "nbformat_minor": 5
}
