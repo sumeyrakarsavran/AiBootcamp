{
 "cells": [
  {
   "cell_type": "raw",
   "id": "27b46e4b-669f-413a-9694-7086b63908b6",
   "metadata": {},
   "source": [
    "1-Entanglement - Dolaniklik\n",
    "2-Superposition - Ust uste binme ilkesi\n",
    "3-Teleportation -Isinlanma\n",
    "4-Quantum Tunneling\n",
    "5-Probability - Olasilik"
   ]
  },
  {
   "cell_type": "code",
   "execution_count": 1,
   "id": "66ad86fd-ab92-490a-a38d-8e944243ff9b",
   "metadata": {},
   "outputs": [],
   "source": [
    "import warnings\n",
    "warnings.filterwarnings('ignore')"
   ]
  },
  {
   "cell_type": "code",
   "execution_count": 3,
   "id": "c514e95f-3153-4ca2-80e0-bc12cf40414f",
   "metadata": {},
   "outputs": [],
   "source": [
    "#pip install qiskit"
   ]
  },
  {
   "cell_type": "code",
   "execution_count": 6,
   "id": "62e31211-8056-4a8b-b88c-a0aa7c5f215c",
   "metadata": {},
   "outputs": [
    {
     "name": "stdout",
     "output_type": "stream",
     "text": [
      "Collecting qiskit-ibmq-provider\n",
      "  Obtaining dependency information for qiskit-ibmq-provider from https://files.pythonhosted.org/packages/a2/ad/f0af9c18c198f8c6e29657bfa7b24c6cd0a8cd75b79ba2ba7d2a97585380/qiskit_ibmq_provider-0.20.2-py3-none-any.whl.metadata\n",
      "  Downloading qiskit_ibmq_provider-0.20.2-py3-none-any.whl.metadata (14 kB)\n",
      "Collecting qiskit-terra>=0.18.0 (from qiskit-ibmq-provider)\n",
      "  Obtaining dependency information for qiskit-terra>=0.18.0 from https://files.pythonhosted.org/packages/98/31/bb89a69575820815d0256055bb1abcd4d67d537c36305b6cbdca60a7145e/qiskit_terra-0.46.3-cp38-abi3-win_amd64.whl.metadata\n",
      "  Downloading qiskit_terra-0.46.3-cp38-abi3-win_amd64.whl.metadata (13 kB)\n",
      "Requirement already satisfied: requests>=2.19 in c:\\users\\karsa\\anaconda3\\envs\\env\\lib\\site-packages (from qiskit-ibmq-provider) (2.32.3)\n",
      "Collecting requests-ntlm<=1.1.0 (from qiskit-ibmq-provider)\n",
      "  Obtaining dependency information for requests-ntlm<=1.1.0 from https://files.pythonhosted.org/packages/03/4b/8b9a1afde8072c4d5710d9fa91433d504325821b038e00237dc8d6d833dc/requests_ntlm-1.1.0-py2.py3-none-any.whl.metadata\n",
      "  Downloading requests_ntlm-1.1.0-py2.py3-none-any.whl.metadata (938 bytes)\n",
      "Collecting numpy<1.24 (from qiskit-ibmq-provider)\n",
      "  Obtaining dependency information for numpy<1.24 from https://files.pythonhosted.org/packages/6a/03/ae6c3c307f9c5c7516de3df3e764ebb1de33e54e197f0370992138433ef4/numpy-1.23.5-cp310-cp310-win_amd64.whl.metadata\n",
      "  Downloading numpy-1.23.5-cp310-cp310-win_amd64.whl.metadata (2.3 kB)\n",
      "Requirement already satisfied: urllib3>=1.21.1 in c:\\users\\karsa\\anaconda3\\envs\\env\\lib\\site-packages (from qiskit-ibmq-provider) (2.2.3)\n",
      "Requirement already satisfied: python-dateutil>=2.8.0 in c:\\users\\karsa\\anaconda3\\envs\\env\\lib\\site-packages (from qiskit-ibmq-provider) (2.8.2)\n",
      "Requirement already satisfied: websocket-client>=1.5.1 in c:\\users\\karsa\\appdata\\roaming\\python\\python310\\site-packages (from qiskit-ibmq-provider) (1.8.0)\n",
      "Requirement already satisfied: websockets>=10.0 in c:\\users\\karsa\\anaconda3\\envs\\env\\lib\\site-packages (from qiskit-ibmq-provider) (13.1)\n",
      "Requirement already satisfied: six>=1.5 in c:\\users\\karsa\\anaconda3\\envs\\env\\lib\\site-packages (from python-dateutil>=2.8.0->qiskit-ibmq-provider) (1.16.0)\n",
      "Collecting rustworkx>=0.13.0 (from qiskit-terra>=0.18.0->qiskit-ibmq-provider)\n",
      "  Obtaining dependency information for rustworkx>=0.13.0 from https://files.pythonhosted.org/packages/9c/c6/50f5736f5dac1709c6c8b6ac3470f466fd793dd25c081923942caf13051f/rustworkx-0.15.1-cp38-abi3-win_amd64.whl.metadata\n",
      "  Using cached rustworkx-0.15.1-cp38-abi3-win_amd64.whl.metadata (10 kB)\n",
      "Requirement already satisfied: ply>=3.10 in c:\\users\\karsa\\anaconda3\\envs\\env\\lib\\site-packages (from qiskit-terra>=0.18.0->qiskit-ibmq-provider) (3.11)\n",
      "Requirement already satisfied: psutil>=5 in c:\\users\\karsa\\anaconda3\\envs\\env\\lib\\site-packages (from qiskit-terra>=0.18.0->qiskit-ibmq-provider) (5.9.0)\n",
      "Requirement already satisfied: scipy>=1.5 in c:\\users\\karsa\\anaconda3\\envs\\env\\lib\\site-packages (from qiskit-terra>=0.18.0->qiskit-ibmq-provider) (1.10.1)\n",
      "Requirement already satisfied: sympy>=1.3 in c:\\users\\karsa\\anaconda3\\envs\\env\\lib\\site-packages (from qiskit-terra>=0.18.0->qiskit-ibmq-provider) (1.13.3)\n",
      "Requirement already satisfied: dill>=0.3 in c:\\users\\karsa\\anaconda3\\envs\\env\\lib\\site-packages (from qiskit-terra>=0.18.0->qiskit-ibmq-provider) (0.3.7)\n",
      "Collecting stevedore>=3.0.0 (from qiskit-terra>=0.18.0->qiskit-ibmq-provider)\n",
      "  Obtaining dependency information for stevedore>=3.0.0 from https://files.pythonhosted.org/packages/ec/50/70762bdb23f6c2b746b90661f461d33c4913a22a46bb5265b10947e85ffb/stevedore-5.3.0-py3-none-any.whl.metadata\n",
      "  Using cached stevedore-5.3.0-py3-none-any.whl.metadata (2.3 kB)\n",
      "Requirement already satisfied: typing-extensions in c:\\users\\karsa\\anaconda3\\envs\\env\\lib\\site-packages (from qiskit-terra>=0.18.0->qiskit-ibmq-provider) (4.12.2)\n",
      "Requirement already satisfied: charset-normalizer<4,>=2 in c:\\users\\karsa\\anaconda3\\envs\\env\\lib\\site-packages (from requests>=2.19->qiskit-ibmq-provider) (2.0.4)\n",
      "Requirement already satisfied: idna<4,>=2.5 in c:\\users\\karsa\\anaconda3\\envs\\env\\lib\\site-packages (from requests>=2.19->qiskit-ibmq-provider) (2.10)\n",
      "Requirement already satisfied: certifi>=2017.4.17 in c:\\users\\karsa\\anaconda3\\envs\\env\\lib\\site-packages (from requests>=2.19->qiskit-ibmq-provider) (2024.8.30)\n",
      "Collecting ntlm-auth>=1.0.2 (from requests-ntlm<=1.1.0->qiskit-ibmq-provider)\n",
      "  Obtaining dependency information for ntlm-auth>=1.0.2 from https://files.pythonhosted.org/packages/ff/84/97c550164b54942b0e908c31ef09d9469f3ba4cd7332a671e2125732f63b/ntlm_auth-1.5.0-py2.py3-none-any.whl.metadata\n",
      "  Downloading ntlm_auth-1.5.0-py2.py3-none-any.whl.metadata (10 kB)\n",
      "Requirement already satisfied: cryptography>=1.3 in c:\\users\\karsa\\anaconda3\\envs\\env\\lib\\site-packages (from requests-ntlm<=1.1.0->qiskit-ibmq-provider) (41.0.2)\n",
      "Requirement already satisfied: cffi>=1.12 in c:\\users\\karsa\\anaconda3\\envs\\env\\lib\\site-packages (from cryptography>=1.3->requests-ntlm<=1.1.0->qiskit-ibmq-provider) (1.15.1)\n",
      "Collecting pbr>=2.0.0 (from stevedore>=3.0.0->qiskit-terra>=0.18.0->qiskit-ibmq-provider)\n",
      "  Obtaining dependency information for pbr>=2.0.0 from https://files.pythonhosted.org/packages/1d/44/6a65ecd630393d47ad3e7d5354768cb7f9a10b3a0eb2cd8c6f52b28211ee/pbr-6.1.0-py2.py3-none-any.whl.metadata\n",
      "  Using cached pbr-6.1.0-py2.py3-none-any.whl.metadata (3.4 kB)\n",
      "Requirement already satisfied: mpmath<1.4,>=1.1.0 in c:\\users\\karsa\\anaconda3\\envs\\env\\lib\\site-packages (from sympy>=1.3->qiskit-terra>=0.18.0->qiskit-ibmq-provider) (1.3.0)\n",
      "Requirement already satisfied: pycparser in c:\\users\\karsa\\anaconda3\\envs\\env\\lib\\site-packages (from cffi>=1.12->cryptography>=1.3->requests-ntlm<=1.1.0->qiskit-ibmq-provider) (2.21)\n",
      "Downloading qiskit_ibmq_provider-0.20.2-py3-none-any.whl (241 kB)\n",
      "   ---------------------------------------- 0.0/241.5 kB ? eta -:--:--\n",
      "   ----- ---------------------------------- 30.7/241.5 kB 1.3 MB/s eta 0:00:01\n",
      "   --------- ----------------------------- 61.4/241.5 kB 544.7 kB/s eta 0:00:01\n",
      "   ----------------- -------------------- 112.6/241.5 kB 930.9 kB/s eta 0:00:01\n",
      "   ------------------------------------- -- 225.3/241.5 kB 1.1 MB/s eta 0:00:01\n",
      "   -------------------------------------- 241.5/241.5 kB 983.9 kB/s eta 0:00:00\n",
      "Downloading numpy-1.23.5-cp310-cp310-win_amd64.whl (14.6 MB)\n",
      "   ---------------------------------------- 0.0/14.6 MB ? eta -:--:--\n",
      "    --------------------------------------- 0.2/14.6 MB ? eta -:--:--\n",
      "   - -------------------------------------- 0.5/14.6 MB 5.6 MB/s eta 0:00:03\n",
      "   -- ------------------------------------- 0.8/14.6 MB 6.7 MB/s eta 0:00:03\n",
      "   --- ------------------------------------ 1.2/14.6 MB 6.4 MB/s eta 0:00:03\n",
      "   ---- ----------------------------------- 1.7/14.6 MB 7.2 MB/s eta 0:00:02\n",
      "   ------ --------------------------------- 2.2/14.6 MB 7.8 MB/s eta 0:00:02\n",
      "   ------- -------------------------------- 2.7/14.6 MB 8.5 MB/s eta 0:00:02\n",
      "   -------- ------------------------------- 3.1/14.6 MB 8.7 MB/s eta 0:00:02\n",
      "   ---------- ----------------------------- 3.7/14.6 MB 8.7 MB/s eta 0:00:02\n",
      "   ----------- ---------------------------- 4.1/14.6 MB 9.0 MB/s eta 0:00:02\n",
      "   ----------- ---------------------------- 4.1/14.6 MB 9.0 MB/s eta 0:00:02\n",
      "   ----------- ---------------------------- 4.1/14.6 MB 9.0 MB/s eta 0:00:02\n",
      "   ----------- ---------------------------- 4.1/14.6 MB 9.0 MB/s eta 0:00:02\n",
      "   ------------ --------------------------- 4.7/14.6 MB 7.1 MB/s eta 0:00:02\n",
      "   ---------------- ----------------------- 6.2/14.6 MB 9.0 MB/s eta 0:00:01\n",
      "   ------------------ --------------------- 6.7/14.6 MB 9.1 MB/s eta 0:00:01\n",
      "   ------------------- -------------------- 7.1/14.6 MB 9.1 MB/s eta 0:00:01\n",
      "   -------------------- ------------------- 7.7/14.6 MB 9.1 MB/s eta 0:00:01\n",
      "   ---------------------- ----------------- 8.2/14.6 MB 9.1 MB/s eta 0:00:01\n",
      "   ----------------------- ---------------- 8.6/14.6 MB 9.2 MB/s eta 0:00:01\n",
      "   ------------------------ --------------- 9.1/14.6 MB 9.3 MB/s eta 0:00:01\n",
      "   -------------------------- ------------- 9.6/14.6 MB 9.4 MB/s eta 0:00:01\n",
      "   --------------------------- ------------ 10.0/14.6 MB 9.4 MB/s eta 0:00:01\n",
      "   ---------------------------- ----------- 10.6/14.6 MB 9.9 MB/s eta 0:00:01\n",
      "   ----------------------------- ---------- 10.8/14.6 MB 9.8 MB/s eta 0:00:01\n",
      "Note: you may need to restart the kernel to use updated packages.\n"
     ]
    },
    {
     "name": "stderr",
     "output_type": "stream",
     "text": [
      "ERROR: Could not install packages due to an OSError: [Errno 28] No space left on device\n",
      "\n"
     ]
    }
   ],
   "source": [
    "pip install qiskit-ibmq-provider"
   ]
  },
  {
   "cell_type": "code",
   "execution_count": 5,
   "id": "492bbbeb-2fb4-4e3f-af41-f090b3d065fe",
   "metadata": {},
   "outputs": [],
   "source": [
    "pip install pylatexenc"
   ]
  },
  {
   "cell_type": "code",
   "execution_count": null,
   "id": "efed405e-2af3-4d8a-95ec-9173a4bd9679",
   "metadata": {},
   "outputs": [],
   "source": [
    "pip install qiskit-aer"
   ]
  },
  {
   "cell_type": "code",
   "execution_count": null,
   "id": "454a5191-8dad-42c8-8cab-8f741c31647d",
   "metadata": {},
   "outputs": [],
   "source": [
    "from qiskit import IBMQ"
   ]
  },
  {
   "cell_type": "code",
   "execution_count": null,
   "id": "89a72577-8b71-4db0-9b0b-75ba933795cb",
   "metadata": {},
   "outputs": [],
   "source": [
    "IBMQ.save_account('bc61a2283724820bc60790753c7a611a461aa59b6fe5e67425169b6c75e83a93cff4ccee95340761a7fd7a9504c317a645228d28e57e206d190a840bdac6eb0d')"
   ]
  }
 ],
 "metadata": {
  "kernelspec": {
   "display_name": "Python 3 (ipykernel)",
   "language": "python",
   "name": "python3"
  },
  "language_info": {
   "codemirror_mode": {
    "name": "ipython",
    "version": 3
   },
   "file_extension": ".py",
   "mimetype": "text/x-python",
   "name": "python",
   "nbconvert_exporter": "python",
   "pygments_lexer": "ipython3",
   "version": "3.10.12"
  }
 },
 "nbformat": 4,
 "nbformat_minor": 5
}
