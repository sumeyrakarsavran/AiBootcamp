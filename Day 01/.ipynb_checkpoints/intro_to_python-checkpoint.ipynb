{
 "cells": [
  {
   "cell_type": "markdown",
   "id": "8c850d1b-06a3-4056-b407-9f9ebeda4454",
   "metadata": {},
   "source": [
    "# <font color=red>Intro to Python"
   ]
  },
  {
   "cell_type": "markdown",
   "id": "327ec877-a83f-4bb4-a264-c441fbdd90b6",
   "metadata": {},
   "source": [
    "python and pandas"
   ]
  },
  {
   "cell_type": "markdown",
   "id": "6ccc0a97-5186-449f-880f-cd0e95b2dd85",
   "metadata": {},
   "source": [
    "$ \\int_a^b \\frac{dx}{sinx} \\Sigma \\Delta$"
   ]
  },
  {
   "cell_type": "markdown",
   "id": "63e44a58-21be-440b-b9b1-363a0f472aa0",
   "metadata": {},
   "source": [
    "### Değişken Tanımlama"
   ]
  },
  {
   "cell_type": "markdown",
   "id": "fd25ac40-a3a1-4b66-b544-4e6974162204",
   "metadata": {},
   "source": [
    "..."
   ]
  },
  {
   "cell_type": "code",
   "execution_count": 1,
   "id": "22c482cc-738d-4726-ad3f-69311cf7b710",
   "metadata": {},
   "outputs": [],
   "source": [
    "fiyat=[25,67,89,100,90]"
   ]
  },
  {
   "cell_type": "code",
   "execution_count": 2,
   "id": "14d60d95-b58a-4008-ad3c-0ee3774e5746",
   "metadata": {},
   "outputs": [],
   "source": [
    "def tax(x):\n",
    "    return x*1.60"
   ]
  },
  {
   "cell_type": "code",
   "execution_count": 3,
   "id": "04b64134-7ddd-41aa-a048-e9fb226f9d13",
   "metadata": {},
   "outputs": [
    {
     "data": {
      "text/plain": [
       "124.80000000000001"
      ]
     },
     "execution_count": 3,
     "metadata": {},
     "output_type": "execute_result"
    }
   ],
   "source": [
    "tax(78)"
   ]
  },
  {
   "cell_type": "code",
   "execution_count": 4,
   "id": "97bdd66f-8b49-4df5-a39e-bf1f0719ca44",
   "metadata": {},
   "outputs": [],
   "source": [
    "#List comprehension"
   ]
  },
  {
   "cell_type": "code",
   "execution_count": 5,
   "id": "5a034fd5-b461-4529-8cf2-d72db7d4d0a8",
   "metadata": {},
   "outputs": [
    {
     "data": {
      "text/plain": [
       "[40.0, 107.2, 142.4, 160.0, 144.0]"
      ]
     },
     "execution_count": 5,
     "metadata": {},
     "output_type": "execute_result"
    }
   ],
   "source": [
    "[tax(x) for x in fiyat]"
   ]
  },
  {
   "cell_type": "code",
   "execution_count": 6,
   "id": "4e99bf29-5543-46a3-b190-f7cdcda274bf",
   "metadata": {},
   "outputs": [],
   "source": [
    "#pandas"
   ]
  },
  {
   "cell_type": "code",
   "execution_count": 9,
   "id": "f7e73ddc-7a59-4c01-89fe-01f6e27432eb",
   "metadata": {},
   "outputs": [],
   "source": [
    "import pandas as pd"
   ]
  },
  {
   "cell_type": "code",
   "execution_count": 8,
   "id": "ddb5d930-fae2-4981-9caa-9e68492419df",
   "metadata": {},
   "outputs": [
    {
     "name": "stdout",
     "output_type": "stream",
     "text": [
      "Requirement already satisfied: pandas in c:\\users\\karsa\\anaconda3\\envs\\env\\lib\\site-packages (2.2.0)\n",
      "Requirement already satisfied: numpy<2,>=1.22.4 in c:\\users\\karsa\\anaconda3\\envs\\env\\lib\\site-packages (from pandas) (1.25.0)\n",
      "Requirement already satisfied: python-dateutil>=2.8.2 in c:\\users\\karsa\\anaconda3\\envs\\env\\lib\\site-packages (from pandas) (2.8.2)\n",
      "Requirement already satisfied: pytz>=2020.1 in c:\\users\\karsa\\anaconda3\\envs\\env\\lib\\site-packages (from pandas) (2023.3.post1)\n",
      "Requirement already satisfied: tzdata>=2022.7 in c:\\users\\karsa\\anaconda3\\envs\\env\\lib\\site-packages (from pandas) (2024.1)\n",
      "Requirement already satisfied: six>=1.5 in c:\\users\\karsa\\anaconda3\\envs\\env\\lib\\site-packages (from python-dateutil>=2.8.2->pandas) (1.16.0)\n",
      "Note: you may need to restart the kernel to use updated packages.\n"
     ]
    }
   ],
   "source": [
    "#pip install pandas"
   ]
  },
  {
   "cell_type": "code",
   "execution_count": 11,
   "id": "17c53b50-e902-41d4-9d3a-32484937cd0a",
   "metadata": {},
   "outputs": [],
   "source": [
    "df=pd.read_csv('train.csv')"
   ]
  },
  {
   "cell_type": "code",
   "execution_count": 12,
   "id": "9ba7dbd6-498b-40b7-923a-518774689d2d",
   "metadata": {},
   "outputs": [
    {
     "data": {
      "text/html": [
       "<div>\n",
       "<style scoped>\n",
       "    .dataframe tbody tr th:only-of-type {\n",
       "        vertical-align: middle;\n",
       "    }\n",
       "\n",
       "    .dataframe tbody tr th {\n",
       "        vertical-align: top;\n",
       "    }\n",
       "\n",
       "    .dataframe thead th {\n",
       "        text-align: right;\n",
       "    }\n",
       "</style>\n",
       "<table border=\"1\" class=\"dataframe\">\n",
       "  <thead>\n",
       "    <tr style=\"text-align: right;\">\n",
       "      <th></th>\n",
       "      <th>PassengerId</th>\n",
       "      <th>Survived</th>\n",
       "      <th>Pclass</th>\n",
       "      <th>Name</th>\n",
       "      <th>Gender</th>\n",
       "      <th>Age</th>\n",
       "      <th>SibSp</th>\n",
       "      <th>Parch</th>\n",
       "      <th>Ticket</th>\n",
       "      <th>Fare</th>\n",
       "      <th>Cabin</th>\n",
       "      <th>Embarked</th>\n",
       "    </tr>\n",
       "  </thead>\n",
       "  <tbody>\n",
       "    <tr>\n",
       "      <th>0</th>\n",
       "      <td>1</td>\n",
       "      <td>0</td>\n",
       "      <td>3</td>\n",
       "      <td>Braund, Mr. Owen Harris</td>\n",
       "      <td>male</td>\n",
       "      <td>22.0</td>\n",
       "      <td>1</td>\n",
       "      <td>0</td>\n",
       "      <td>A/5 21171</td>\n",
       "      <td>7.2500</td>\n",
       "      <td>NaN</td>\n",
       "      <td>S</td>\n",
       "    </tr>\n",
       "    <tr>\n",
       "      <th>1</th>\n",
       "      <td>2</td>\n",
       "      <td>1</td>\n",
       "      <td>1</td>\n",
       "      <td>Cumings, Mrs. John Bradley (Florence Briggs Th...</td>\n",
       "      <td>female</td>\n",
       "      <td>38.0</td>\n",
       "      <td>1</td>\n",
       "      <td>0</td>\n",
       "      <td>PC 17599</td>\n",
       "      <td>71.2833</td>\n",
       "      <td>C85</td>\n",
       "      <td>C</td>\n",
       "    </tr>\n",
       "    <tr>\n",
       "      <th>2</th>\n",
       "      <td>3</td>\n",
       "      <td>1</td>\n",
       "      <td>3</td>\n",
       "      <td>Heikkinen, Miss. Laina</td>\n",
       "      <td>female</td>\n",
       "      <td>26.0</td>\n",
       "      <td>0</td>\n",
       "      <td>0</td>\n",
       "      <td>STON/O2. 3101282</td>\n",
       "      <td>7.9250</td>\n",
       "      <td>NaN</td>\n",
       "      <td>S</td>\n",
       "    </tr>\n",
       "    <tr>\n",
       "      <th>3</th>\n",
       "      <td>4</td>\n",
       "      <td>1</td>\n",
       "      <td>1</td>\n",
       "      <td>Futrelle, Mrs. Jacques Heath (Lily May Peel)</td>\n",
       "      <td>female</td>\n",
       "      <td>35.0</td>\n",
       "      <td>1</td>\n",
       "      <td>0</td>\n",
       "      <td>113803</td>\n",
       "      <td>53.1000</td>\n",
       "      <td>C123</td>\n",
       "      <td>S</td>\n",
       "    </tr>\n",
       "    <tr>\n",
       "      <th>4</th>\n",
       "      <td>5</td>\n",
       "      <td>0</td>\n",
       "      <td>3</td>\n",
       "      <td>Allen, Mr. William Henry</td>\n",
       "      <td>male</td>\n",
       "      <td>35.0</td>\n",
       "      <td>0</td>\n",
       "      <td>0</td>\n",
       "      <td>373450</td>\n",
       "      <td>8.0500</td>\n",
       "      <td>NaN</td>\n",
       "      <td>S</td>\n",
       "    </tr>\n",
       "  </tbody>\n",
       "</table>\n",
       "</div>"
      ],
      "text/plain": [
       "   PassengerId  Survived  Pclass  \\\n",
       "0            1         0       3   \n",
       "1            2         1       1   \n",
       "2            3         1       3   \n",
       "3            4         1       1   \n",
       "4            5         0       3   \n",
       "\n",
       "                                                Name  Gender   Age  SibSp  \\\n",
       "0                            Braund, Mr. Owen Harris    male  22.0      1   \n",
       "1  Cumings, Mrs. John Bradley (Florence Briggs Th...  female  38.0      1   \n",
       "2                             Heikkinen, Miss. Laina  female  26.0      0   \n",
       "3       Futrelle, Mrs. Jacques Heath (Lily May Peel)  female  35.0      1   \n",
       "4                           Allen, Mr. William Henry    male  35.0      0   \n",
       "\n",
       "   Parch            Ticket     Fare Cabin Embarked  \n",
       "0      0         A/5 21171   7.2500   NaN        S  \n",
       "1      0          PC 17599  71.2833   C85        C  \n",
       "2      0  STON/O2. 3101282   7.9250   NaN        S  \n",
       "3      0            113803  53.1000  C123        S  \n",
       "4      0            373450   8.0500   NaN        S  "
      ]
     },
     "execution_count": 12,
     "metadata": {},
     "output_type": "execute_result"
    }
   ],
   "source": [
    "df.head() #ilk 5 satır"
   ]
  },
  {
   "cell_type": "code",
   "execution_count": 13,
   "id": "dde4d402-b6a6-477e-a134-5da50f3f0ff6",
   "metadata": {},
   "outputs": [
    {
     "data": {
      "text/plain": [
       "(891, 12)"
      ]
     },
     "execution_count": 13,
     "metadata": {},
     "output_type": "execute_result"
    }
   ],
   "source": [
    "df.shape #boyut yani satır sütün sayısı"
   ]
  },
  {
   "cell_type": "code",
   "execution_count": 14,
   "id": "0e6eabdc-c9ff-421d-99a3-7d569fb7f39c",
   "metadata": {},
   "outputs": [
    {
     "data": {
      "text/html": [
       "<div>\n",
       "<style scoped>\n",
       "    .dataframe tbody tr th:only-of-type {\n",
       "        vertical-align: middle;\n",
       "    }\n",
       "\n",
       "    .dataframe tbody tr th {\n",
       "        vertical-align: top;\n",
       "    }\n",
       "\n",
       "    .dataframe thead th {\n",
       "        text-align: right;\n",
       "    }\n",
       "</style>\n",
       "<table border=\"1\" class=\"dataframe\">\n",
       "  <thead>\n",
       "    <tr style=\"text-align: right;\">\n",
       "      <th></th>\n",
       "      <th>PassengerId</th>\n",
       "      <th>Survived</th>\n",
       "      <th>Pclass</th>\n",
       "      <th>Name</th>\n",
       "      <th>Gender</th>\n",
       "      <th>Age</th>\n",
       "      <th>SibSp</th>\n",
       "      <th>Parch</th>\n",
       "      <th>Ticket</th>\n",
       "      <th>Fare</th>\n",
       "      <th>Cabin</th>\n",
       "      <th>Embarked</th>\n",
       "    </tr>\n",
       "  </thead>\n",
       "  <tbody>\n",
       "    <tr>\n",
       "      <th>886</th>\n",
       "      <td>887</td>\n",
       "      <td>0</td>\n",
       "      <td>2</td>\n",
       "      <td>Montvila, Rev. Juozas</td>\n",
       "      <td>male</td>\n",
       "      <td>27.0</td>\n",
       "      <td>0</td>\n",
       "      <td>0</td>\n",
       "      <td>211536</td>\n",
       "      <td>13.00</td>\n",
       "      <td>NaN</td>\n",
       "      <td>S</td>\n",
       "    </tr>\n",
       "    <tr>\n",
       "      <th>887</th>\n",
       "      <td>888</td>\n",
       "      <td>1</td>\n",
       "      <td>1</td>\n",
       "      <td>Graham, Miss. Margaret Edith</td>\n",
       "      <td>female</td>\n",
       "      <td>19.0</td>\n",
       "      <td>0</td>\n",
       "      <td>0</td>\n",
       "      <td>112053</td>\n",
       "      <td>30.00</td>\n",
       "      <td>B42</td>\n",
       "      <td>S</td>\n",
       "    </tr>\n",
       "    <tr>\n",
       "      <th>888</th>\n",
       "      <td>889</td>\n",
       "      <td>0</td>\n",
       "      <td>3</td>\n",
       "      <td>Johnston, Miss. Catherine Helen \"Carrie\"</td>\n",
       "      <td>female</td>\n",
       "      <td>NaN</td>\n",
       "      <td>1</td>\n",
       "      <td>2</td>\n",
       "      <td>W./C. 6607</td>\n",
       "      <td>23.45</td>\n",
       "      <td>NaN</td>\n",
       "      <td>S</td>\n",
       "    </tr>\n",
       "    <tr>\n",
       "      <th>889</th>\n",
       "      <td>890</td>\n",
       "      <td>1</td>\n",
       "      <td>1</td>\n",
       "      <td>Behr, Mr. Karl Howell</td>\n",
       "      <td>male</td>\n",
       "      <td>26.0</td>\n",
       "      <td>0</td>\n",
       "      <td>0</td>\n",
       "      <td>111369</td>\n",
       "      <td>30.00</td>\n",
       "      <td>C148</td>\n",
       "      <td>C</td>\n",
       "    </tr>\n",
       "    <tr>\n",
       "      <th>890</th>\n",
       "      <td>891</td>\n",
       "      <td>0</td>\n",
       "      <td>3</td>\n",
       "      <td>Dooley, Mr. Patrick</td>\n",
       "      <td>male</td>\n",
       "      <td>32.0</td>\n",
       "      <td>0</td>\n",
       "      <td>0</td>\n",
       "      <td>370376</td>\n",
       "      <td>7.75</td>\n",
       "      <td>NaN</td>\n",
       "      <td>Q</td>\n",
       "    </tr>\n",
       "  </tbody>\n",
       "</table>\n",
       "</div>"
      ],
      "text/plain": [
       "     PassengerId  Survived  Pclass                                      Name  \\\n",
       "886          887         0       2                     Montvila, Rev. Juozas   \n",
       "887          888         1       1              Graham, Miss. Margaret Edith   \n",
       "888          889         0       3  Johnston, Miss. Catherine Helen \"Carrie\"   \n",
       "889          890         1       1                     Behr, Mr. Karl Howell   \n",
       "890          891         0       3                       Dooley, Mr. Patrick   \n",
       "\n",
       "     Gender   Age  SibSp  Parch      Ticket   Fare Cabin Embarked  \n",
       "886    male  27.0      0      0      211536  13.00   NaN        S  \n",
       "887  female  19.0      0      0      112053  30.00   B42        S  \n",
       "888  female   NaN      1      2  W./C. 6607  23.45   NaN        S  \n",
       "889    male  26.0      0      0      111369  30.00  C148        C  \n",
       "890    male  32.0      0      0      370376   7.75   NaN        Q  "
      ]
     },
     "execution_count": 14,
     "metadata": {},
     "output_type": "execute_result"
    }
   ],
   "source": [
    "df.tail() #son 5 satır"
   ]
  },
  {
   "cell_type": "code",
   "execution_count": 15,
   "id": "d1abff9c-6ca3-4c54-ac5e-792fa3d6c66e",
   "metadata": {},
   "outputs": [
    {
     "ename": "ImportError",
     "evalue": "matplotlib is required for plotting when the default backend \"matplotlib\" is selected.",
     "output_type": "error",
     "traceback": [
      "\u001b[1;31m---------------------------------------------------------------------------\u001b[0m",
      "\u001b[1;31mImportError\u001b[0m                               Traceback (most recent call last)",
      "Cell \u001b[1;32mIn[15], line 1\u001b[0m\n\u001b[1;32m----> 1\u001b[0m \u001b[43mdf\u001b[49m\u001b[38;5;241;43m.\u001b[39;49m\u001b[43mplot\u001b[49m\u001b[43m(\u001b[49m\u001b[43m)\u001b[49m\n",
      "File \u001b[1;32m~\\anaconda3\\envs\\env\\lib\\site-packages\\pandas\\plotting\\_core.py:947\u001b[0m, in \u001b[0;36mPlotAccessor.__call__\u001b[1;34m(self, *args, **kwargs)\u001b[0m\n\u001b[0;32m    946\u001b[0m \u001b[38;5;28;01mdef\u001b[39;00m \u001b[38;5;21m__call__\u001b[39m(\u001b[38;5;28mself\u001b[39m, \u001b[38;5;241m*\u001b[39margs, \u001b[38;5;241m*\u001b[39m\u001b[38;5;241m*\u001b[39mkwargs):\n\u001b[1;32m--> 947\u001b[0m     plot_backend \u001b[38;5;241m=\u001b[39m \u001b[43m_get_plot_backend\u001b[49m\u001b[43m(\u001b[49m\u001b[43mkwargs\u001b[49m\u001b[38;5;241;43m.\u001b[39;49m\u001b[43mpop\u001b[49m\u001b[43m(\u001b[49m\u001b[38;5;124;43m\"\u001b[39;49m\u001b[38;5;124;43mbackend\u001b[39;49m\u001b[38;5;124;43m\"\u001b[39;49m\u001b[43m,\u001b[49m\u001b[43m \u001b[49m\u001b[38;5;28;43;01mNone\u001b[39;49;00m\u001b[43m)\u001b[49m\u001b[43m)\u001b[49m\n\u001b[0;32m    949\u001b[0m     x, y, kind, kwargs \u001b[38;5;241m=\u001b[39m \u001b[38;5;28mself\u001b[39m\u001b[38;5;241m.\u001b[39m_get_call_args(\n\u001b[0;32m    950\u001b[0m         plot_backend\u001b[38;5;241m.\u001b[39m\u001b[38;5;18m__name__\u001b[39m, \u001b[38;5;28mself\u001b[39m\u001b[38;5;241m.\u001b[39m_parent, args, kwargs\n\u001b[0;32m    951\u001b[0m     )\n\u001b[0;32m    953\u001b[0m     kind \u001b[38;5;241m=\u001b[39m \u001b[38;5;28mself\u001b[39m\u001b[38;5;241m.\u001b[39m_kind_aliases\u001b[38;5;241m.\u001b[39mget(kind, kind)\n",
      "File \u001b[1;32m~\\anaconda3\\envs\\env\\lib\\site-packages\\pandas\\plotting\\_core.py:1944\u001b[0m, in \u001b[0;36m_get_plot_backend\u001b[1;34m(backend)\u001b[0m\n\u001b[0;32m   1941\u001b[0m \u001b[38;5;28;01mif\u001b[39;00m backend_str \u001b[38;5;129;01min\u001b[39;00m _backends:\n\u001b[0;32m   1942\u001b[0m     \u001b[38;5;28;01mreturn\u001b[39;00m _backends[backend_str]\n\u001b[1;32m-> 1944\u001b[0m module \u001b[38;5;241m=\u001b[39m \u001b[43m_load_backend\u001b[49m\u001b[43m(\u001b[49m\u001b[43mbackend_str\u001b[49m\u001b[43m)\u001b[49m\n\u001b[0;32m   1945\u001b[0m _backends[backend_str] \u001b[38;5;241m=\u001b[39m module\n\u001b[0;32m   1946\u001b[0m \u001b[38;5;28;01mreturn\u001b[39;00m module\n",
      "File \u001b[1;32m~\\anaconda3\\envs\\env\\lib\\site-packages\\pandas\\plotting\\_core.py:1874\u001b[0m, in \u001b[0;36m_load_backend\u001b[1;34m(backend)\u001b[0m\n\u001b[0;32m   1872\u001b[0m         module \u001b[38;5;241m=\u001b[39m importlib\u001b[38;5;241m.\u001b[39mimport_module(\u001b[38;5;124m\"\u001b[39m\u001b[38;5;124mpandas.plotting._matplotlib\u001b[39m\u001b[38;5;124m\"\u001b[39m)\n\u001b[0;32m   1873\u001b[0m     \u001b[38;5;28;01mexcept\u001b[39;00m \u001b[38;5;167;01mImportError\u001b[39;00m:\n\u001b[1;32m-> 1874\u001b[0m         \u001b[38;5;28;01mraise\u001b[39;00m \u001b[38;5;167;01mImportError\u001b[39;00m(\n\u001b[0;32m   1875\u001b[0m             \u001b[38;5;124m\"\u001b[39m\u001b[38;5;124mmatplotlib is required for plotting when the \u001b[39m\u001b[38;5;124m\"\u001b[39m\n\u001b[0;32m   1876\u001b[0m             \u001b[38;5;124m'\u001b[39m\u001b[38;5;124mdefault backend \u001b[39m\u001b[38;5;124m\"\u001b[39m\u001b[38;5;124mmatplotlib\u001b[39m\u001b[38;5;124m\"\u001b[39m\u001b[38;5;124m is selected.\u001b[39m\u001b[38;5;124m'\u001b[39m\n\u001b[0;32m   1877\u001b[0m         ) \u001b[38;5;28;01mfrom\u001b[39;00m \u001b[38;5;28;01mNone\u001b[39;00m\n\u001b[0;32m   1878\u001b[0m     \u001b[38;5;28;01mreturn\u001b[39;00m module\n\u001b[0;32m   1880\u001b[0m found_backend \u001b[38;5;241m=\u001b[39m \u001b[38;5;28;01mFalse\u001b[39;00m\n",
      "\u001b[1;31mImportError\u001b[0m: matplotlib is required for plotting when the default backend \"matplotlib\" is selected."
     ]
    }
   ],
   "source": [
    "df.plot() #bütün verilerin birbiriyle ilgili grafiği"
   ]
  },
  {
   "cell_type": "code",
   "execution_count": 16,
   "id": "93d3759f-5e87-4baf-8f4a-9a467a351746",
   "metadata": {},
   "outputs": [
    {
     "name": "stdout",
     "output_type": "stream",
     "text": [
      "Collecting matplotlibNote: you may need to restart the kernel to use updated packages.\n",
      "\n",
      "  Obtaining dependency information for matplotlib from https://files.pythonhosted.org/packages/be/f6/4ac7f10c1e8d51f42e320a0890ee7c8e45fb5b1178ed147f374a37900924/matplotlib-3.9.1-cp310-cp310-win_amd64.whl.metadata\n",
      "  Downloading matplotlib-3.9.1-cp310-cp310-win_amd64.whl.metadata (11 kB)\n",
      "Collecting contourpy>=1.0.1 (from matplotlib)\n",
      "  Obtaining dependency information for contourpy>=1.0.1 from https://files.pythonhosted.org/packages/b6/b2/27c7a0d46c7dceb9083272eb314bef1ed43e5280a4197719656f866b496d/contourpy-1.2.1-cp310-cp310-win_amd64.whl.metadata\n",
      "  Downloading contourpy-1.2.1-cp310-cp310-win_amd64.whl.metadata (5.8 kB)\n",
      "Collecting cycler>=0.10 (from matplotlib)\n",
      "  Obtaining dependency information for cycler>=0.10 from https://files.pythonhosted.org/packages/e7/05/c19819d5e3d95294a6f5947fb9b9629efb316b96de511b418c53d245aae6/cycler-0.12.1-py3-none-any.whl.metadata\n",
      "  Downloading cycler-0.12.1-py3-none-any.whl.metadata (3.8 kB)\n",
      "Collecting fonttools>=4.22.0 (from matplotlib)\n",
      "  Obtaining dependency information for fonttools>=4.22.0 from https://files.pythonhosted.org/packages/70/11/7b81b12a5614b5d237ab70c38bdc268de3eb3880ce7bb1269122e0a415ea/fonttools-4.53.1-cp310-cp310-win_amd64.whl.metadata\n",
      "  Downloading fonttools-4.53.1-cp310-cp310-win_amd64.whl.metadata (165 kB)\n",
      "     ---------------------------------------- 0.0/165.9 kB ? eta -:--:--\n",
      "     ------- ------------------------------- 30.7/165.9 kB 1.4 MB/s eta 0:00:01\n",
      "     --------------------- ----------------- 92.2/165.9 kB 1.3 MB/s eta 0:00:01\n",
      "     -------------------------------------  163.8/165.9 kB 1.4 MB/s eta 0:00:01\n",
      "     -------------------------------------- 165.9/165.9 kB 1.1 MB/s eta 0:00:00\n",
      "Collecting kiwisolver>=1.3.1 (from matplotlib)\n",
      "  Obtaining dependency information for kiwisolver>=1.3.1 from https://files.pythonhosted.org/packages/4a/a1/8a9c9be45c642fa12954855d8b3a02d9fd8551165a558835a19508fec2e6/kiwisolver-1.4.5-cp310-cp310-win_amd64.whl.metadata\n",
      "  Downloading kiwisolver-1.4.5-cp310-cp310-win_amd64.whl.metadata (6.5 kB)\n",
      "Requirement already satisfied: numpy>=1.23 in c:\\users\\karsa\\anaconda3\\envs\\env\\lib\\site-packages (from matplotlib) (1.25.0)\n",
      "Requirement already satisfied: packaging>=20.0 in c:\\users\\karsa\\anaconda3\\envs\\env\\lib\\site-packages (from matplotlib) (23.0)\n",
      "Collecting pillow>=8 (from matplotlib)\n",
      "  Obtaining dependency information for pillow>=8 from https://files.pythonhosted.org/packages/f4/72/0203e94a91ddb4a9d5238434ae6c1ca10e610e8487036132ea9bf806ca2a/pillow-10.4.0-cp310-cp310-win_amd64.whl.metadata\n",
      "  Downloading pillow-10.4.0-cp310-cp310-win_amd64.whl.metadata (9.3 kB)\n",
      "Collecting pyparsing>=2.3.1 (from matplotlib)\n",
      "  Obtaining dependency information for pyparsing>=2.3.1 from https://files.pythonhosted.org/packages/9d/ea/6d76df31432a0e6fdf81681a895f009a4bb47b3c39036db3e1b528191d52/pyparsing-3.1.2-py3-none-any.whl.metadata\n",
      "  Downloading pyparsing-3.1.2-py3-none-any.whl.metadata (5.1 kB)\n",
      "Requirement already satisfied: python-dateutil>=2.7 in c:\\users\\karsa\\anaconda3\\envs\\env\\lib\\site-packages (from matplotlib) (2.8.2)\n",
      "Requirement already satisfied: six>=1.5 in c:\\users\\karsa\\anaconda3\\envs\\env\\lib\\site-packages (from python-dateutil>=2.7->matplotlib) (1.16.0)\n",
      "Downloading matplotlib-3.9.1-cp310-cp310-win_amd64.whl (8.0 MB)\n",
      "   ---------------------------------------- 0.0/8.0 MB ? eta -:--:--\n",
      "   ---------------------------------------- 0.0/8.0 MB ? eta -:--:--\n",
      "   - -------------------------------------- 0.2/8.0 MB 3.6 MB/s eta 0:00:03\n",
      "   -- ------------------------------------- 0.5/8.0 MB 3.9 MB/s eta 0:00:02\n",
      "   ---- ----------------------------------- 0.8/8.0 MB 4.7 MB/s eta 0:00:02\n",
      "   ----- ---------------------------------- 1.1/8.0 MB 5.2 MB/s eta 0:00:02\n",
      "   ------- -------------------------------- 1.5/8.0 MB 5.5 MB/s eta 0:00:02\n",
      "   --------- ------------------------------ 1.8/8.0 MB 5.7 MB/s eta 0:00:02\n",
      "   ---------- ----------------------------- 2.1/8.0 MB 5.9 MB/s eta 0:00:01\n",
      "   ------------ --------------------------- 2.5/8.0 MB 6.1 MB/s eta 0:00:01\n",
      "   -------------- ------------------------- 2.8/8.0 MB 6.1 MB/s eta 0:00:01\n",
      "   --------------- ------------------------ 3.1/8.0 MB 6.2 MB/s eta 0:00:01\n",
      "   ----------------- ---------------------- 3.4/8.0 MB 6.3 MB/s eta 0:00:01\n",
      "   ------------------- -------------------- 3.8/8.0 MB 6.2 MB/s eta 0:00:01\n",
      "   -------------------- ------------------- 4.1/8.0 MB 6.4 MB/s eta 0:00:01\n",
      "   ---------------------- ----------------- 4.5/8.0 MB 6.3 MB/s eta 0:00:01\n",
      "   ----------------------- ---------------- 4.8/8.0 MB 6.5 MB/s eta 0:00:01\n",
      "   ------------------------- -------------- 5.1/8.0 MB 6.5 MB/s eta 0:00:01\n",
      "   --------------------------- ------------ 5.4/8.0 MB 6.6 MB/s eta 0:00:01\n",
      "   ----------------------------- ---------- 5.8/8.0 MB 6.5 MB/s eta 0:00:01\n",
      "   ------------------------------ --------- 6.1/8.0 MB 6.5 MB/s eta 0:00:01\n",
      "   -------------------------------- ------- 6.4/8.0 MB 6.5 MB/s eta 0:00:01\n",
      "   ---------------------------------- ----- 6.8/8.0 MB 6.6 MB/s eta 0:00:01\n",
      "   ----------------------------------- ---- 7.1/8.0 MB 6.6 MB/s eta 0:00:01\n",
      "   ------------------------------------- -- 7.4/8.0 MB 6.6 MB/s eta 0:00:01\n",
      "   ------------------------------------- -- 7.5/8.0 MB 6.7 MB/s eta 0:00:01\n",
      "   -------------------------------------- - 7.6/8.0 MB 6.2 MB/s eta 0:00:01\n",
      "   -------------------------------------- - 7.6/8.0 MB 6.1 MB/s eta 0:00:01\n",
      "   ---------------------------------------  7.8/8.0 MB 6.0 MB/s eta 0:00:01\n",
      "   ---------------------------------------  8.0/8.0 MB 6.0 MB/s eta 0:00:01\n",
      "   ---------------------------------------  8.0/8.0 MB 6.0 MB/s eta 0:00:01\n",
      "   ---------------------------------------  8.0/8.0 MB 6.0 MB/s eta 0:00:01\n",
      "   ---------------------------------------- 8.0/8.0 MB 5.4 MB/s eta 0:00:00\n",
      "Downloading contourpy-1.2.1-cp310-cp310-win_amd64.whl (187 kB)\n",
      "   ---------------------------------------- 0.0/187.5 kB ? eta -:--:--\n",
      "   ---------------------------------------- 187.5/187.5 kB 5.5 MB/s eta 0:00:00\n",
      "Downloading cycler-0.12.1-py3-none-any.whl (8.3 kB)\n",
      "Downloading fonttools-4.53.1-cp310-cp310-win_amd64.whl (2.2 MB)\n",
      "   ---------------------------------------- 0.0/2.2 MB ? eta -:--:--\n",
      "   ------- -------------------------------- 0.4/2.2 MB 12.9 MB/s eta 0:00:01\n",
      "   ------------- -------------------------- 0.7/2.2 MB 9.2 MB/s eta 0:00:01\n",
      "   ------------------- -------------------- 1.1/2.2 MB 7.7 MB/s eta 0:00:01\n",
      "   ------------------------- -------------- 1.4/2.2 MB 7.5 MB/s eta 0:00:01\n",
      "   ------------------------------- -------- 1.7/2.2 MB 7.4 MB/s eta 0:00:01\n",
      "   ------------------------------------- -- 2.0/2.2 MB 7.3 MB/s eta 0:00:01\n",
      "   ---------------------------------------  2.2/2.2 MB 7.0 MB/s eta 0:00:01\n",
      "   ---------------------------------------- 2.2/2.2 MB 6.1 MB/s eta 0:00:00\n",
      "Downloading kiwisolver-1.4.5-cp310-cp310-win_amd64.whl (56 kB)\n",
      "   ---------------------------------------- 0.0/56.1 kB ? eta -:--:--\n",
      "   ---------------------------------------- 56.1/56.1 kB 3.1 MB/s eta 0:00:00\n",
      "Downloading pillow-10.4.0-cp310-cp310-win_amd64.whl (2.6 MB)\n",
      "   ---------------------------------------- 0.0/2.6 MB ? eta -:--:--\n",
      "   ----- ---------------------------------- 0.3/2.6 MB 7.1 MB/s eta 0:00:01\n",
      "   ---------- ----------------------------- 0.7/2.6 MB 6.9 MB/s eta 0:00:01\n",
      "   --------------- ------------------------ 1.0/2.6 MB 7.0 MB/s eta 0:00:01\n",
      "   -------------------- ------------------- 1.3/2.6 MB 7.7 MB/s eta 0:00:01\n",
      "   ------------------------- -------------- 1.7/2.6 MB 7.0 MB/s eta 0:00:01\n",
      "   ------------------------------ --------- 2.0/2.6 MB 7.4 MB/s eta 0:00:01\n",
      "   ------------------------------------ --- 2.3/2.6 MB 7.4 MB/s eta 0:00:01\n",
      "   ---------------------------------------  2.5/2.6 MB 7.1 MB/s eta 0:00:01\n",
      "   ---------------------------------------  2.5/2.6 MB 7.1 MB/s eta 0:00:01\n",
      "   ---------------------------------------- 2.6/2.6 MB 6.0 MB/s eta 0:00:00\n",
      "Downloading pyparsing-3.1.2-py3-none-any.whl (103 kB)\n",
      "   ---------------------------------------- 0.0/103.2 kB ? eta -:--:--\n",
      "   ---------------------------------------- 103.2/103.2 kB 6.2 MB/s eta 0:00:00\n",
      "Installing collected packages: pyparsing, pillow, kiwisolver, fonttools, cycler, contourpy, matplotlib\n",
      "Successfully installed contourpy-1.2.1 cycler-0.12.1 fonttools-4.53.1 kiwisolver-1.4.5 matplotlib-3.9.1 pillow-10.4.0 pyparsing-3.1.2\n"
     ]
    }
   ],
   "source": [
    "pip install matplotlib"
   ]
  },
  {
   "cell_type": "code",
   "execution_count": null,
   "id": "bebe03f8-3ecf-4d59-a1a2-852941b8be5a",
   "metadata": {},
   "outputs": [],
   "source": []
  }
 ],
 "metadata": {
  "kernelspec": {
   "display_name": "Python 3 (ipykernel)",
   "language": "python",
   "name": "python3"
  },
  "language_info": {
   "codemirror_mode": {
    "name": "ipython",
    "version": 3
   },
   "file_extension": ".py",
   "mimetype": "text/x-python",
   "name": "python",
   "nbconvert_exporter": "python",
   "pygments_lexer": "ipython3",
   "version": "3.10.12"
  }
 },
 "nbformat": 4,
 "nbformat_minor": 5
}
